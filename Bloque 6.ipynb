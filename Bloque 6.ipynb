{
 "cells": [
  {
   "cell_type": "markdown",
   "metadata": {},
   "source": [
    "# Taller de Machine Learning con R\n",
    "## Bloque 6: Comparación de modelos"
   ]
  },
  {
   "cell_type": "markdown",
   "metadata": {},
   "source": [
    "Hacemos el preprocesamiento de la base de datos"
   ]
  },
  {
   "cell_type": "code",
   "execution_count": 1,
   "metadata": {},
   "outputs": [
    {
     "name": "stderr",
     "output_type": "stream",
     "text": [
      "Loading required package: lattice\n",
      "Loading required package: ggplot2\n",
      "Loading required package: MASS\n",
      "Loading required package: Matrix\n",
      "Loading required package: lme4\n",
      "\n",
      "arm (Version 1.10-1, built: 2018-4-12)\n",
      "\n",
      "Working directory is C:/Users/luisa/OneDrive/Cursos/R/Machine Learning con R 1\n",
      "\n"
     ]
    }
   ],
   "source": [
    "library('titanic')\n",
    "library('plyr')\n",
    "library('caret')\n",
    "library('e1071')\n",
    "library('arm')"
   ]
  },
  {
   "cell_type": "code",
   "execution_count": 2,
   "metadata": {},
   "outputs": [],
   "source": [
    "database<-titanic_train #Llamar base\n",
    "database<-database[sample(1:nrow(database)),2:12] #Aleatorizar\n",
    "database<-na.omit(database) #Quitar los renglones con NAs\n",
    "database$Sex<-revalue(factor(database$Sex),\n",
    "            c('male'=0,'female'=1)) #Cambiamos a numérico\n",
    "database$Embarked<-revalue(factor(database$Embarked),\n",
    "            c('S'=0,'C'=1,'Q'=2)) #Cambiamos a numérico"
   ]
  },
  {
   "cell_type": "markdown",
   "metadata": {},
   "source": [
    "Generamos ahora la base de validación"
   ]
  },
  {
   "cell_type": "code",
   "execution_count": 3,
   "metadata": {},
   "outputs": [],
   "source": [
    "variables<-c('Fare','Survived','Age','Sex')\n",
    "database$Survived<-as.factor(database$Survived)#Para no tener \n",
    "                                                #problemas con caret\n",
    "train_perc<-0.8\n",
    "val_perc<-0.2\n",
    "train_size<-dim(database)[1]*train_perc #tamaño a entrenar\n",
    "val_size<-dim(database)[1]*val_perc #tamaño de subconjuntos\n",
    "train_size<-ceiling(train_size) #Truncar fracciones hacía arriba\n",
    "val_size<-floor(val_size) #Truncar fracciones hacía abajo\n",
    "train<-database[1:train_size,]\n",
    "val<-database[(train_size+1):(train_size+val_size),]"
   ]
  },
  {
   "cell_type": "code",
   "execution_count": 4,
   "metadata": {},
   "outputs": [
    {
     "name": "stdout",
     "output_type": "stream",
     "text": [
      "[1] 142  11\n",
      "[1] 572  11\n"
     ]
    }
   ],
   "source": [
    "print(dim(val))\n",
    "print(dim(train))"
   ]
  },
  {
   "cell_type": "markdown",
   "metadata": {},
   "source": [
    "Ahora generaremos una base utilizando el método de k-Fold Cross Validation para $k=4$ y procedemos a también calcular el tamaño de la base $N$."
   ]
  },
  {
   "cell_type": "code",
   "execution_count": 6,
   "metadata": {},
   "outputs": [],
   "source": [
    "k<-4\n",
    "d1<-train[variables]\n",
    "#t1<-test[variables]"
   ]
  },
  {
   "cell_type": "markdown",
   "metadata": {},
   "source": [
    "1. Hacemos el modelo logístico para la base y establecemos los parámetros para establecer validación cruzada por método de k-Fold"
   ]
  },
  {
   "cell_type": "code",
   "execution_count": 7,
   "metadata": {},
   "outputs": [],
   "source": [
    "lrfit = train(Survived ~ ., data=d1, method='glm',\n",
    "    trControl = trainControl(method = \"cv\",\n",
    "                             number=k,p=(1/k)))"
   ]
  },
  {
   "cell_type": "markdown",
   "metadata": {},
   "source": [
    "Se busca el Accuracy de validación final de la REGRESIÓN LOGÍSTICA"
   ]
  },
  {
   "cell_type": "code",
   "execution_count": 8,
   "metadata": {},
   "outputs": [
    {
     "data": {
      "text/plain": [
       "Confusion Matrix and Statistics\n",
       "\n",
       "          Reference\n",
       "Prediction  0  1\n",
       "         0 75 10\n",
       "         1 14 43\n",
       "                                         \n",
       "               Accuracy : 0.831          \n",
       "                 95% CI : (0.759, 0.8886)\n",
       "    No Information Rate : 0.6268         \n",
       "    P-Value [Acc > NIR] : 8.459e-08      \n",
       "                                         \n",
       "                  Kappa : 0.6442         \n",
       " Mcnemar's Test P-Value : 0.5403         \n",
       "                                         \n",
       "            Sensitivity : 0.8427         \n",
       "            Specificity : 0.8113         \n",
       "         Pos Pred Value : 0.8824         \n",
       "         Neg Pred Value : 0.7544         \n",
       "             Prevalence : 0.6268         \n",
       "         Detection Rate : 0.5282         \n",
       "   Detection Prevalence : 0.5986         \n",
       "      Balanced Accuracy : 0.8270         \n",
       "                                         \n",
       "       'Positive' Class : 0              \n",
       "                                         "
      ]
     },
     "metadata": {},
     "output_type": "display_data"
    }
   ],
   "source": [
    "lrPredict <- predict(lrfit,newdata = val)\n",
    "confusionMatrix(lrPredict, val$Survived )"
   ]
  },
  {
   "cell_type": "code",
   "execution_count": 9,
   "metadata": {},
   "outputs": [
    {
     "data": {
      "text/html": [
       "0.830985915492958"
      ],
      "text/latex": [
       "0.830985915492958"
      ],
      "text/markdown": [
       "0.830985915492958"
      ],
      "text/plain": [
       "[1] 0.8309859"
      ]
     },
     "metadata": {},
     "output_type": "display_data"
    }
   ],
   "source": [
    "Acc_lr<-as.numeric(confusionMatrix(lrPredict,\n",
    "                    val$Survived )$overall[1])\n",
    "Acc_lr"
   ]
  },
  {
   "cell_type": "markdown",
   "metadata": {},
   "source": [
    "2. Ahora para el modelo knn e igualmente establecemos el modelo de cv"
   ]
  },
  {
   "cell_type": "code",
   "execution_count": 10,
   "metadata": {},
   "outputs": [],
   "source": [
    "Knnfit = train(Survived ~ ., data=d1, method='knn', \n",
    "     trControl = trainControl(method = \"cv\",\n",
    "                              number=k,p=(1/k)))"
   ]
  },
  {
   "cell_type": "markdown",
   "metadata": {},
   "source": [
    "Se busca el Accuracy de validación final para K-NEAREST NEIGHBORS"
   ]
  },
  {
   "cell_type": "code",
   "execution_count": 11,
   "metadata": {},
   "outputs": [
    {
     "data": {
      "text/plain": [
       "Confusion Matrix and Statistics\n",
       "\n",
       "          Reference\n",
       "Prediction  0  1\n",
       "         0 72 26\n",
       "         1 17 27\n",
       "                                          \n",
       "               Accuracy : 0.6972          \n",
       "                 95% CI : (0.6145, 0.7714)\n",
       "    No Information Rate : 0.6268          \n",
       "    P-Value [Acc > NIR] : 0.04813         \n",
       "                                          \n",
       "                  Kappa : 0.3297          \n",
       " Mcnemar's Test P-Value : 0.22247         \n",
       "                                          \n",
       "            Sensitivity : 0.8090          \n",
       "            Specificity : 0.5094          \n",
       "         Pos Pred Value : 0.7347          \n",
       "         Neg Pred Value : 0.6136          \n",
       "             Prevalence : 0.6268          \n",
       "         Detection Rate : 0.5070          \n",
       "   Detection Prevalence : 0.6901          \n",
       "      Balanced Accuracy : 0.6592          \n",
       "                                          \n",
       "       'Positive' Class : 0               \n",
       "                                          "
      ]
     },
     "metadata": {},
     "output_type": "display_data"
    }
   ],
   "source": [
    "knnPredict <- predict(Knnfit,newdata = val)\n",
    "confusionMatrix(knnPredict, val$Survived)"
   ]
  },
  {
   "cell_type": "code",
   "execution_count": 12,
   "metadata": {},
   "outputs": [
    {
     "data": {
      "text/html": [
       "0.697183098591549"
      ],
      "text/latex": [
       "0.697183098591549"
      ],
      "text/markdown": [
       "0.697183098591549"
      ],
      "text/plain": [
       "[1] 0.6971831"
      ]
     },
     "metadata": {},
     "output_type": "display_data"
    }
   ],
   "source": [
    "Acc_knn<-as.numeric(confusionMatrix(knnPredict,\n",
    "                        val$Survived )$overall[1])\n",
    "Acc_knn"
   ]
  },
  {
   "cell_type": "markdown",
   "metadata": {},
   "source": [
    "3. Finalmente establecemos el modelo de árbol de decisión"
   ]
  },
  {
   "cell_type": "code",
   "execution_count": 13,
   "metadata": {},
   "outputs": [],
   "source": [
    "dtfit = train(Survived ~ ., data=d1,method=\"rpart\",\n",
    "              trControl = trainControl(method = \"cv\",\n",
    "                                       number=k,p=(1/k)))"
   ]
  },
  {
   "cell_type": "markdown",
   "metadata": {},
   "source": [
    "Se busca el Accuracy de validación final para ÁRBOLES DE DECISIÓN"
   ]
  },
  {
   "cell_type": "code",
   "execution_count": 14,
   "metadata": {},
   "outputs": [
    {
     "data": {
      "text/plain": [
       "Confusion Matrix and Statistics\n",
       "\n",
       "          Reference\n",
       "Prediction  0  1\n",
       "         0 76 12\n",
       "         1 13 41\n",
       "                                          \n",
       "               Accuracy : 0.8239          \n",
       "                 95% CI : (0.7512, 0.8827)\n",
       "    No Information Rate : 0.6268          \n",
       "    P-Value [Acc > NIR] : 2.437e-07       \n",
       "                                          \n",
       "                  Kappa : 0.6251          \n",
       " Mcnemar's Test P-Value : 1               \n",
       "                                          \n",
       "            Sensitivity : 0.8539          \n",
       "            Specificity : 0.7736          \n",
       "         Pos Pred Value : 0.8636          \n",
       "         Neg Pred Value : 0.7593          \n",
       "             Prevalence : 0.6268          \n",
       "         Detection Rate : 0.5352          \n",
       "   Detection Prevalence : 0.6197          \n",
       "      Balanced Accuracy : 0.8138          \n",
       "                                          \n",
       "       'Positive' Class : 0               \n",
       "                                          "
      ]
     },
     "metadata": {},
     "output_type": "display_data"
    }
   ],
   "source": [
    "dtPredict <- predict(dtfit,newdata = val)\n",
    "confusionMatrix(dtPredict, val$Survived )"
   ]
  },
  {
   "cell_type": "code",
   "execution_count": 15,
   "metadata": {},
   "outputs": [
    {
     "data": {
      "text/html": [
       "0.823943661971831"
      ],
      "text/latex": [
       "0.823943661971831"
      ],
      "text/markdown": [
       "0.823943661971831"
      ],
      "text/plain": [
       "[1] 0.8239437"
      ]
     },
     "metadata": {},
     "output_type": "display_data"
    }
   ],
   "source": [
    "Acc_dt<-as.numeric(confusionMatrix(dtPredict, val$Survived )$overall[1])\n",
    "Acc_dt"
   ]
  },
  {
   "cell_type": "code",
   "execution_count": 16,
   "metadata": {},
   "outputs": [
    {
     "data": {
      "text/html": [
       "1"
      ],
      "text/latex": [
       "1"
      ],
      "text/markdown": [
       "1"
      ],
      "text/plain": [
       "[1] 1"
      ]
     },
     "metadata": {},
     "output_type": "display_data"
    }
   ],
   "source": [
    "final_decision<-c(Acc_lr,Acc_dt,Acc_knn)\n",
    "which.max(final_decision)"
   ]
  },
  {
   "cell_type": "code",
   "execution_count": 19,
   "metadata": {},
   "outputs": [
    {
     "name": "stdout",
     "output_type": "stream",
     "text": [
      "[1] 0.8309859\n",
      "[1] 0.8239437\n",
      "[1] 0.6971831\n"
     ]
    }
   ],
   "source": [
    "print(Acc_lr)\n",
    "print(Acc_dt)\n",
    "print(Acc_knn)"
   ]
  }
 ],
 "metadata": {
  "kernelspec": {
   "display_name": "R",
   "language": "R",
   "name": "ir"
  },
  "language_info": {
   "codemirror_mode": "r",
   "file_extension": ".r",
   "mimetype": "text/x-r-source",
   "name": "R",
   "pygments_lexer": "r",
   "version": "3.5.1"
  }
 },
 "nbformat": 4,
 "nbformat_minor": 2
}
