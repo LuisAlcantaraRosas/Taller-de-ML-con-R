{
 "cells": [
  {
   "cell_type": "markdown",
   "metadata": {},
   "source": [
    "# Taller de Machine Learning con R\n",
    "## Bloque 3: Regresiones"
   ]
  },
  {
   "cell_type": "markdown",
   "metadata": {},
   "source": [
    "Descargamos primero la base de datos"
   ]
  },
  {
   "cell_type": "code",
   "execution_count": 2,
   "metadata": {},
   "outputs": [],
   "source": [
    "#install.packages('titanic')\n",
    "library('titanic')"
   ]
  },
  {
   "cell_type": "markdown",
   "metadata": {},
   "source": [
    "Ya viene dividida en 2 conjuntos de entrenamiento y prueba. Sin embargo, como se mencionó anteriormente se tomará la base de train como la base total."
   ]
  },
  {
   "cell_type": "code",
   "execution_count": 3,
   "metadata": {},
   "outputs": [
    {
     "data": {
      "text/html": [
       "<table>\n",
       "<thead><tr><th scope=col>PassengerId</th><th scope=col>Survived</th><th scope=col>Pclass</th><th scope=col>Name</th><th scope=col>Sex</th><th scope=col>Age</th><th scope=col>SibSp</th><th scope=col>Parch</th><th scope=col>Ticket</th><th scope=col>Fare</th><th scope=col>Cabin</th><th scope=col>Embarked</th></tr></thead>\n",
       "<tbody>\n",
       "\t<tr><td>1                                                  </td><td>0                                                  </td><td>3                                                  </td><td>Braund, Mr. Owen Harris                            </td><td>male                                               </td><td>22                                                 </td><td>1                                                  </td><td>0                                                  </td><td>A/5 21171                                          </td><td> 7.2500                                            </td><td>                                                   </td><td>S                                                  </td></tr>\n",
       "\t<tr><td>2                                                  </td><td>1                                                  </td><td>1                                                  </td><td>Cumings, Mrs. John Bradley (Florence Briggs Thayer)</td><td>female                                             </td><td>38                                                 </td><td>1                                                  </td><td>0                                                  </td><td>PC 17599                                           </td><td>71.2833                                            </td><td>C85                                                </td><td>C                                                  </td></tr>\n",
       "\t<tr><td>3                                                  </td><td>1                                                  </td><td>3                                                  </td><td>Heikkinen, Miss. Laina                             </td><td>female                                             </td><td>26                                                 </td><td>0                                                  </td><td>0                                                  </td><td>STON/O2. 3101282                                   </td><td> 7.9250                                            </td><td>                                                   </td><td>S                                                  </td></tr>\n",
       "\t<tr><td>4                                                  </td><td>1                                                  </td><td>1                                                  </td><td>Futrelle, Mrs. Jacques Heath (Lily May Peel)       </td><td>female                                             </td><td>35                                                 </td><td>1                                                  </td><td>0                                                  </td><td>113803                                             </td><td>53.1000                                            </td><td>C123                                               </td><td>S                                                  </td></tr>\n",
       "\t<tr><td>5                                                  </td><td>0                                                  </td><td>3                                                  </td><td>Allen, Mr. William Henry                           </td><td>male                                               </td><td>35                                                 </td><td>0                                                  </td><td>0                                                  </td><td>373450                                             </td><td> 8.0500                                            </td><td>                                                   </td><td>S                                                  </td></tr>\n",
       "\t<tr><td>6                                                  </td><td>0                                                  </td><td>3                                                  </td><td>Moran, Mr. James                                   </td><td>male                                               </td><td>NA                                                 </td><td>0                                                  </td><td>0                                                  </td><td>330877                                             </td><td> 8.4583                                            </td><td>                                                   </td><td>Q                                                  </td></tr>\n",
       "</tbody>\n",
       "</table>\n"
      ],
      "text/latex": [
       "\\begin{tabular}{r|llllllllllll}\n",
       " PassengerId & Survived & Pclass & Name & Sex & Age & SibSp & Parch & Ticket & Fare & Cabin & Embarked\\\\\n",
       "\\hline\n",
       "\t 1                                                   & 0                                                   & 3                                                   & Braund, Mr. Owen Harris                             & male                                                & 22                                                  & 1                                                   & 0                                                   & A/5 21171                                           &  7.2500                                             &                                                     & S                                                  \\\\\n",
       "\t 2                                                   & 1                                                   & 1                                                   & Cumings, Mrs. John Bradley (Florence Briggs Thayer) & female                                              & 38                                                  & 1                                                   & 0                                                   & PC 17599                                            & 71.2833                                             & C85                                                 & C                                                  \\\\\n",
       "\t 3                                                   & 1                                                   & 3                                                   & Heikkinen, Miss. Laina                              & female                                              & 26                                                  & 0                                                   & 0                                                   & STON/O2. 3101282                                    &  7.9250                                             &                                                     & S                                                  \\\\\n",
       "\t 4                                                   & 1                                                   & 1                                                   & Futrelle, Mrs. Jacques Heath (Lily May Peel)        & female                                              & 35                                                  & 1                                                   & 0                                                   & 113803                                              & 53.1000                                             & C123                                                & S                                                  \\\\\n",
       "\t 5                                                   & 0                                                   & 3                                                   & Allen, Mr. William Henry                            & male                                                & 35                                                  & 0                                                   & 0                                                   & 373450                                              &  8.0500                                             &                                                     & S                                                  \\\\\n",
       "\t 6                                                   & 0                                                   & 3                                                   & Moran, Mr. James                                    & male                                                & NA                                                  & 0                                                   & 0                                                   & 330877                                              &  8.4583                                             &                                                     & Q                                                  \\\\\n",
       "\\end{tabular}\n"
      ],
      "text/markdown": [
       "\n",
       "PassengerId | Survived | Pclass | Name | Sex | Age | SibSp | Parch | Ticket | Fare | Cabin | Embarked | \n",
       "|---|---|---|---|---|---|\n",
       "| 1                                                   | 0                                                   | 3                                                   | Braund, Mr. Owen Harris                             | male                                                | 22                                                  | 1                                                   | 0                                                   | A/5 21171                                           |  7.2500                                             |                                                     | S                                                   | \n",
       "| 2                                                   | 1                                                   | 1                                                   | Cumings, Mrs. John Bradley (Florence Briggs Thayer) | female                                              | 38                                                  | 1                                                   | 0                                                   | PC 17599                                            | 71.2833                                             | C85                                                 | C                                                   | \n",
       "| 3                                                   | 1                                                   | 3                                                   | Heikkinen, Miss. Laina                              | female                                              | 26                                                  | 0                                                   | 0                                                   | STON/O2. 3101282                                    |  7.9250                                             |                                                     | S                                                   | \n",
       "| 4                                                   | 1                                                   | 1                                                   | Futrelle, Mrs. Jacques Heath (Lily May Peel)        | female                                              | 35                                                  | 1                                                   | 0                                                   | 113803                                              | 53.1000                                             | C123                                                | S                                                   | \n",
       "| 5                                                   | 0                                                   | 3                                                   | Allen, Mr. William Henry                            | male                                                | 35                                                  | 0                                                   | 0                                                   | 373450                                              |  8.0500                                             |                                                     | S                                                   | \n",
       "| 6                                                   | 0                                                   | 3                                                   | Moran, Mr. James                                    | male                                                | NA                                                  | 0                                                   | 0                                                   | 330877                                              |  8.4583                                             |                                                     | Q                                                   | \n",
       "\n",
       "\n"
      ],
      "text/plain": [
       "  PassengerId Survived Pclass\n",
       "1 1           0        3     \n",
       "2 2           1        1     \n",
       "3 3           1        3     \n",
       "4 4           1        1     \n",
       "5 5           0        3     \n",
       "6 6           0        3     \n",
       "  Name                                                Sex    Age SibSp Parch\n",
       "1 Braund, Mr. Owen Harris                             male   22  1     0    \n",
       "2 Cumings, Mrs. John Bradley (Florence Briggs Thayer) female 38  1     0    \n",
       "3 Heikkinen, Miss. Laina                              female 26  0     0    \n",
       "4 Futrelle, Mrs. Jacques Heath (Lily May Peel)        female 35  1     0    \n",
       "5 Allen, Mr. William Henry                            male   35  0     0    \n",
       "6 Moran, Mr. James                                    male   NA  0     0    \n",
       "  Ticket           Fare    Cabin Embarked\n",
       "1 A/5 21171         7.2500       S       \n",
       "2 PC 17599         71.2833 C85   C       \n",
       "3 STON/O2. 3101282  7.9250       S       \n",
       "4 113803           53.1000 C123  S       \n",
       "5 373450            8.0500       S       \n",
       "6 330877            8.4583       Q       "
      ]
     },
     "metadata": {},
     "output_type": "display_data"
    }
   ],
   "source": [
    "database<-titanic_train\n",
    "head(database)"
   ]
  },
  {
   "cell_type": "markdown",
   "metadata": {},
   "source": [
    "### Ejercicio: ¿Cuál es el tamaño total de la base? Aleatorice la base de datos como se vio anteriormente. Establezca su semilla aleatoria en 150"
   ]
  },
  {
   "cell_type": "code",
   "execution_count": 4,
   "metadata": {},
   "outputs": [
    {
     "data": {
      "text/html": [
       "<ol class=list-inline>\n",
       "\t<li>891</li>\n",
       "\t<li>12</li>\n",
       "</ol>\n"
      ],
      "text/latex": [
       "\\begin{enumerate*}\n",
       "\\item 891\n",
       "\\item 12\n",
       "\\end{enumerate*}\n"
      ],
      "text/markdown": [
       "1. 891\n",
       "2. 12\n",
       "\n",
       "\n"
      ],
      "text/plain": [
       "[1] 891  12"
      ]
     },
     "metadata": {},
     "output_type": "display_data"
    }
   ],
   "source": [
    "dim(database)"
   ]
  },
  {
   "cell_type": "code",
   "execution_count": 141,
   "metadata": {},
   "outputs": [],
   "source": [
    "set.seed(400)"
   ]
  },
  {
   "cell_type": "code",
   "execution_count": 5,
   "metadata": {},
   "outputs": [
    {
     "data": {
      "text/html": [
       "<table>\n",
       "<thead><tr><th></th><th scope=col>Survived</th><th scope=col>Pclass</th><th scope=col>Name</th><th scope=col>Sex</th><th scope=col>Age</th><th scope=col>SibSp</th><th scope=col>Parch</th><th scope=col>Ticket</th><th scope=col>Fare</th><th scope=col>Cabin</th><th scope=col>Embarked</th></tr></thead>\n",
       "<tbody>\n",
       "\t<tr><th scope=row>10</th><td>1                                  </td><td>2                                  </td><td>Nasser, Mrs. Nicholas (Adele Achem)</td><td>female                             </td><td>14                                 </td><td>1                                  </td><td>0                                  </td><td>237736                             </td><td> 30.0708                           </td><td>                                   </td><td>C                                  </td></tr>\n",
       "\t<tr><th scope=row>562</th><td>0                                  </td><td>3                                  </td><td>Sivic, Mr. Husein                  </td><td>male                               </td><td>40                                 </td><td>0                                  </td><td>0                                  </td><td>349251                             </td><td>  7.8958                           </td><td>                                   </td><td>S                                  </td></tr>\n",
       "\t<tr><th scope=row>492</th><td>0                                  </td><td>3                                  </td><td>Windelov, Mr. Einar                </td><td>male                               </td><td>21                                 </td><td>0                                  </td><td>0                                  </td><td>SOTON/OQ 3101317                   </td><td>  7.2500                           </td><td>                                   </td><td>S                                  </td></tr>\n",
       "\t<tr><th scope=row>21</th><td>0                                  </td><td>2                                  </td><td>Fynney, Mr. Joseph J               </td><td>male                               </td><td>35                                 </td><td>0                                  </td><td>0                                  </td><td>239865                             </td><td> 26.0000                           </td><td>                                   </td><td>S                                  </td></tr>\n",
       "\t<tr><th scope=row>271</th><td>0                                  </td><td>1                                  </td><td>Cairns, Mr. Alexander              </td><td>male                               </td><td>NA                                 </td><td>0                                  </td><td>0                                  </td><td>113798                             </td><td> 31.0000                           </td><td>                                   </td><td>S                                  </td></tr>\n",
       "\t<tr><th scope=row>312</th><td>1                                  </td><td>1                                  </td><td>Ryerson, Miss. Emily Borie         </td><td>female                             </td><td>18                                 </td><td>2                                  </td><td>2                                  </td><td>PC 17608                           </td><td>262.3750                           </td><td>B57 B59 B63 B66                    </td><td>C                                  </td></tr>\n",
       "</tbody>\n",
       "</table>\n"
      ],
      "text/latex": [
       "\\begin{tabular}{r|lllllllllll}\n",
       "  & Survived & Pclass & Name & Sex & Age & SibSp & Parch & Ticket & Fare & Cabin & Embarked\\\\\n",
       "\\hline\n",
       "\t10 & 1                                   & 2                                   & Nasser, Mrs. Nicholas (Adele Achem) & female                              & 14                                  & 1                                   & 0                                   & 237736                              &  30.0708                            &                                     & C                                  \\\\\n",
       "\t562 & 0                                   & 3                                   & Sivic, Mr. Husein                   & male                                & 40                                  & 0                                   & 0                                   & 349251                              &   7.8958                            &                                     & S                                  \\\\\n",
       "\t492 & 0                                   & 3                                   & Windelov, Mr. Einar                 & male                                & 21                                  & 0                                   & 0                                   & SOTON/OQ 3101317                    &   7.2500                            &                                     & S                                  \\\\\n",
       "\t21 & 0                                   & 2                                   & Fynney, Mr. Joseph J                & male                                & 35                                  & 0                                   & 0                                   & 239865                              &  26.0000                            &                                     & S                                  \\\\\n",
       "\t271 & 0                                   & 1                                   & Cairns, Mr. Alexander               & male                                & NA                                  & 0                                   & 0                                   & 113798                              &  31.0000                            &                                     & S                                  \\\\\n",
       "\t312 & 1                                   & 1                                   & Ryerson, Miss. Emily Borie          & female                              & 18                                  & 2                                   & 2                                   & PC 17608                            & 262.3750                            & B57 B59 B63 B66                     & C                                  \\\\\n",
       "\\end{tabular}\n"
      ],
      "text/markdown": [
       "\n",
       "| <!--/--> | Survived | Pclass | Name | Sex | Age | SibSp | Parch | Ticket | Fare | Cabin | Embarked | \n",
       "|---|---|---|---|---|---|\n",
       "| 10 | 1                                   | 2                                   | Nasser, Mrs. Nicholas (Adele Achem) | female                              | 14                                  | 1                                   | 0                                   | 237736                              |  30.0708                            |                                     | C                                   | \n",
       "| 562 | 0                                   | 3                                   | Sivic, Mr. Husein                   | male                                | 40                                  | 0                                   | 0                                   | 349251                              |   7.8958                            |                                     | S                                   | \n",
       "| 492 | 0                                   | 3                                   | Windelov, Mr. Einar                 | male                                | 21                                  | 0                                   | 0                                   | SOTON/OQ 3101317                    |   7.2500                            |                                     | S                                   | \n",
       "| 21 | 0                                   | 2                                   | Fynney, Mr. Joseph J                | male                                | 35                                  | 0                                   | 0                                   | 239865                              |  26.0000                            |                                     | S                                   | \n",
       "| 271 | 0                                   | 1                                   | Cairns, Mr. Alexander               | male                                | NA                                  | 0                                   | 0                                   | 113798                              |  31.0000                            |                                     | S                                   | \n",
       "| 312 | 1                                   | 1                                   | Ryerson, Miss. Emily Borie          | female                              | 18                                  | 2                                   | 2                                   | PC 17608                            | 262.3750                            | B57 B59 B63 B66                     | C                                   | \n",
       "\n",
       "\n"
      ],
      "text/plain": [
       "    Survived Pclass Name                                Sex    Age SibSp Parch\n",
       "10  1        2      Nasser, Mrs. Nicholas (Adele Achem) female 14  1     0    \n",
       "562 0        3      Sivic, Mr. Husein                   male   40  0     0    \n",
       "492 0        3      Windelov, Mr. Einar                 male   21  0     0    \n",
       "21  0        2      Fynney, Mr. Joseph J                male   35  0     0    \n",
       "271 0        1      Cairns, Mr. Alexander               male   NA  0     0    \n",
       "312 1        1      Ryerson, Miss. Emily Borie          female 18  2     2    \n",
       "    Ticket           Fare     Cabin           Embarked\n",
       "10  237736            30.0708                 C       \n",
       "562 349251             7.8958                 S       \n",
       "492 SOTON/OQ 3101317   7.2500                 S       \n",
       "21  239865            26.0000                 S       \n",
       "271 113798            31.0000                 S       \n",
       "312 PC 17608         262.3750 B57 B59 B63 B66 C       "
      ]
     },
     "metadata": {},
     "output_type": "display_data"
    }
   ],
   "source": [
    "database<-database[sample(1:nrow(database)),2:12]\n",
    "head(database)"
   ]
  },
  {
   "cell_type": "markdown",
   "metadata": {},
   "source": [
    "Hay bastantes espacios en blanco (NA) y además es necesario hacer un preprocesamiento de la base de datos. Verificamos cuántos NAs hay y en qué características"
   ]
  },
  {
   "cell_type": "code",
   "execution_count": 6,
   "metadata": {},
   "outputs": [
    {
     "data": {
      "text/html": [
       "<ol class=list-inline>\n",
       "\t<li>891</li>\n",
       "\t<li>11</li>\n",
       "</ol>\n"
      ],
      "text/latex": [
       "\\begin{enumerate*}\n",
       "\\item 891\n",
       "\\item 11\n",
       "\\end{enumerate*}\n"
      ],
      "text/markdown": [
       "1. 891\n",
       "2. 11\n",
       "\n",
       "\n"
      ],
      "text/plain": [
       "[1] 891  11"
      ]
     },
     "metadata": {},
     "output_type": "display_data"
    }
   ],
   "source": [
    "dim(database)"
   ]
  },
  {
   "cell_type": "code",
   "execution_count": 144,
   "metadata": {},
   "outputs": [
    {
     "data": {
      "text/html": [
       "<dl class=dl-horizontal>\n",
       "\t<dt>Survived</dt>\n",
       "\t\t<dd>0</dd>\n",
       "\t<dt>Pclass</dt>\n",
       "\t\t<dd>0</dd>\n",
       "\t<dt>Name</dt>\n",
       "\t\t<dd>0</dd>\n",
       "\t<dt>Sex</dt>\n",
       "\t\t<dd>0</dd>\n",
       "\t<dt>Age</dt>\n",
       "\t\t<dd>177</dd>\n",
       "\t<dt>SibSp</dt>\n",
       "\t\t<dd>0</dd>\n",
       "\t<dt>Parch</dt>\n",
       "\t\t<dd>0</dd>\n",
       "\t<dt>Ticket</dt>\n",
       "\t\t<dd>0</dd>\n",
       "\t<dt>Fare</dt>\n",
       "\t\t<dd>0</dd>\n",
       "\t<dt>Cabin</dt>\n",
       "\t\t<dd>0</dd>\n",
       "\t<dt>Embarked</dt>\n",
       "\t\t<dd>0</dd>\n",
       "</dl>\n"
      ],
      "text/latex": [
       "\\begin{description*}\n",
       "\\item[Survived] 0\n",
       "\\item[Pclass] 0\n",
       "\\item[Name] 0\n",
       "\\item[Sex] 0\n",
       "\\item[Age] 177\n",
       "\\item[SibSp] 0\n",
       "\\item[Parch] 0\n",
       "\\item[Ticket] 0\n",
       "\\item[Fare] 0\n",
       "\\item[Cabin] 0\n",
       "\\item[Embarked] 0\n",
       "\\end{description*}\n"
      ],
      "text/markdown": [
       "Survived\n",
       ":   0Pclass\n",
       ":   0Name\n",
       ":   0Sex\n",
       ":   0Age\n",
       ":   177SibSp\n",
       ":   0Parch\n",
       ":   0Ticket\n",
       ":   0Fare\n",
       ":   0Cabin\n",
       ":   0Embarked\n",
       ":   0\n",
       "\n"
      ],
      "text/plain": [
       "Survived   Pclass     Name      Sex      Age    SibSp    Parch   Ticket \n",
       "       0        0        0        0      177        0        0        0 \n",
       "    Fare    Cabin Embarked \n",
       "       0        0        0 "
      ]
     },
     "metadata": {},
     "output_type": "display_data"
    }
   ],
   "source": [
    "colSums(is.na(database))"
   ]
  },
  {
   "cell_type": "markdown",
   "metadata": {},
   "source": [
    "### Ejercicio 2: Elimine los NA de la base de datos"
   ]
  },
  {
   "cell_type": "code",
   "execution_count": 7,
   "metadata": {},
   "outputs": [
    {
     "data": {
      "text/html": [
       "<table>\n",
       "<thead><tr><th></th><th scope=col>Survived</th><th scope=col>Pclass</th><th scope=col>Name</th><th scope=col>Sex</th><th scope=col>Age</th><th scope=col>SibSp</th><th scope=col>Parch</th><th scope=col>Ticket</th><th scope=col>Fare</th><th scope=col>Cabin</th><th scope=col>Embarked</th></tr></thead>\n",
       "<tbody>\n",
       "\t<tr><th scope=row>10</th><td>1                                  </td><td>2                                  </td><td>Nasser, Mrs. Nicholas (Adele Achem)</td><td>female                             </td><td>14                                 </td><td>1                                  </td><td>0                                  </td><td>237736                             </td><td> 30.0708                           </td><td>                                   </td><td>C                                  </td></tr>\n",
       "\t<tr><th scope=row>562</th><td>0                                  </td><td>3                                  </td><td>Sivic, Mr. Husein                  </td><td>male                               </td><td>40                                 </td><td>0                                  </td><td>0                                  </td><td>349251                             </td><td>  7.8958                           </td><td>                                   </td><td>S                                  </td></tr>\n",
       "\t<tr><th scope=row>492</th><td>0                                  </td><td>3                                  </td><td>Windelov, Mr. Einar                </td><td>male                               </td><td>21                                 </td><td>0                                  </td><td>0                                  </td><td>SOTON/OQ 3101317                   </td><td>  7.2500                           </td><td>                                   </td><td>S                                  </td></tr>\n",
       "\t<tr><th scope=row>21</th><td>0                                  </td><td>2                                  </td><td>Fynney, Mr. Joseph J               </td><td>male                               </td><td>35                                 </td><td>0                                  </td><td>0                                  </td><td>239865                             </td><td> 26.0000                           </td><td>                                   </td><td>S                                  </td></tr>\n",
       "\t<tr><th scope=row>312</th><td>1                                  </td><td>1                                  </td><td>Ryerson, Miss. Emily Borie         </td><td>female                             </td><td>18                                 </td><td>2                                  </td><td>2                                  </td><td>PC 17608                           </td><td>262.3750                           </td><td>B57 B59 B63 B66                    </td><td>C                                  </td></tr>\n",
       "\t<tr><th scope=row>819</th><td>0                                  </td><td>3                                  </td><td>Holm, Mr. John Fredrik Alexander   </td><td>male                               </td><td>43                                 </td><td>0                                  </td><td>0                                  </td><td>C 7075                             </td><td>  6.4500                           </td><td>                                   </td><td>S                                  </td></tr>\n",
       "</tbody>\n",
       "</table>\n"
      ],
      "text/latex": [
       "\\begin{tabular}{r|lllllllllll}\n",
       "  & Survived & Pclass & Name & Sex & Age & SibSp & Parch & Ticket & Fare & Cabin & Embarked\\\\\n",
       "\\hline\n",
       "\t10 & 1                                   & 2                                   & Nasser, Mrs. Nicholas (Adele Achem) & female                              & 14                                  & 1                                   & 0                                   & 237736                              &  30.0708                            &                                     & C                                  \\\\\n",
       "\t562 & 0                                   & 3                                   & Sivic, Mr. Husein                   & male                                & 40                                  & 0                                   & 0                                   & 349251                              &   7.8958                            &                                     & S                                  \\\\\n",
       "\t492 & 0                                   & 3                                   & Windelov, Mr. Einar                 & male                                & 21                                  & 0                                   & 0                                   & SOTON/OQ 3101317                    &   7.2500                            &                                     & S                                  \\\\\n",
       "\t21 & 0                                   & 2                                   & Fynney, Mr. Joseph J                & male                                & 35                                  & 0                                   & 0                                   & 239865                              &  26.0000                            &                                     & S                                  \\\\\n",
       "\t312 & 1                                   & 1                                   & Ryerson, Miss. Emily Borie          & female                              & 18                                  & 2                                   & 2                                   & PC 17608                            & 262.3750                            & B57 B59 B63 B66                     & C                                  \\\\\n",
       "\t819 & 0                                   & 3                                   & Holm, Mr. John Fredrik Alexander    & male                                & 43                                  & 0                                   & 0                                   & C 7075                              &   6.4500                            &                                     & S                                  \\\\\n",
       "\\end{tabular}\n"
      ],
      "text/markdown": [
       "\n",
       "| <!--/--> | Survived | Pclass | Name | Sex | Age | SibSp | Parch | Ticket | Fare | Cabin | Embarked | \n",
       "|---|---|---|---|---|---|\n",
       "| 10 | 1                                   | 2                                   | Nasser, Mrs. Nicholas (Adele Achem) | female                              | 14                                  | 1                                   | 0                                   | 237736                              |  30.0708                            |                                     | C                                   | \n",
       "| 562 | 0                                   | 3                                   | Sivic, Mr. Husein                   | male                                | 40                                  | 0                                   | 0                                   | 349251                              |   7.8958                            |                                     | S                                   | \n",
       "| 492 | 0                                   | 3                                   | Windelov, Mr. Einar                 | male                                | 21                                  | 0                                   | 0                                   | SOTON/OQ 3101317                    |   7.2500                            |                                     | S                                   | \n",
       "| 21 | 0                                   | 2                                   | Fynney, Mr. Joseph J                | male                                | 35                                  | 0                                   | 0                                   | 239865                              |  26.0000                            |                                     | S                                   | \n",
       "| 312 | 1                                   | 1                                   | Ryerson, Miss. Emily Borie          | female                              | 18                                  | 2                                   | 2                                   | PC 17608                            | 262.3750                            | B57 B59 B63 B66                     | C                                   | \n",
       "| 819 | 0                                   | 3                                   | Holm, Mr. John Fredrik Alexander    | male                                | 43                                  | 0                                   | 0                                   | C 7075                              |   6.4500                            |                                     | S                                   | \n",
       "\n",
       "\n"
      ],
      "text/plain": [
       "    Survived Pclass Name                                Sex    Age SibSp Parch\n",
       "10  1        2      Nasser, Mrs. Nicholas (Adele Achem) female 14  1     0    \n",
       "562 0        3      Sivic, Mr. Husein                   male   40  0     0    \n",
       "492 0        3      Windelov, Mr. Einar                 male   21  0     0    \n",
       "21  0        2      Fynney, Mr. Joseph J                male   35  0     0    \n",
       "312 1        1      Ryerson, Miss. Emily Borie          female 18  2     2    \n",
       "819 0        3      Holm, Mr. John Fredrik Alexander    male   43  0     0    \n",
       "    Ticket           Fare     Cabin           Embarked\n",
       "10  237736            30.0708                 C       \n",
       "562 349251             7.8958                 S       \n",
       "492 SOTON/OQ 3101317   7.2500                 S       \n",
       "21  239865            26.0000                 S       \n",
       "312 PC 17608         262.3750 B57 B59 B63 B66 C       \n",
       "819 C 7075             6.4500                 S       "
      ]
     },
     "metadata": {},
     "output_type": "display_data"
    }
   ],
   "source": [
    "database<-na.omit(database)\n",
    "head(database)"
   ]
  },
  {
   "cell_type": "markdown",
   "metadata": {},
   "source": [
    "Verificamos si aún quedan NAs"
   ]
  },
  {
   "cell_type": "code",
   "execution_count": 8,
   "metadata": {},
   "outputs": [
    {
     "data": {
      "text/html": [
       "<dl class=dl-horizontal>\n",
       "\t<dt>Survived</dt>\n",
       "\t\t<dd>0</dd>\n",
       "\t<dt>Pclass</dt>\n",
       "\t\t<dd>0</dd>\n",
       "\t<dt>Name</dt>\n",
       "\t\t<dd>0</dd>\n",
       "\t<dt>Sex</dt>\n",
       "\t\t<dd>0</dd>\n",
       "\t<dt>Age</dt>\n",
       "\t\t<dd>0</dd>\n",
       "\t<dt>SibSp</dt>\n",
       "\t\t<dd>0</dd>\n",
       "\t<dt>Parch</dt>\n",
       "\t\t<dd>0</dd>\n",
       "\t<dt>Ticket</dt>\n",
       "\t\t<dd>0</dd>\n",
       "\t<dt>Fare</dt>\n",
       "\t\t<dd>0</dd>\n",
       "\t<dt>Cabin</dt>\n",
       "\t\t<dd>0</dd>\n",
       "\t<dt>Embarked</dt>\n",
       "\t\t<dd>0</dd>\n",
       "</dl>\n"
      ],
      "text/latex": [
       "\\begin{description*}\n",
       "\\item[Survived] 0\n",
       "\\item[Pclass] 0\n",
       "\\item[Name] 0\n",
       "\\item[Sex] 0\n",
       "\\item[Age] 0\n",
       "\\item[SibSp] 0\n",
       "\\item[Parch] 0\n",
       "\\item[Ticket] 0\n",
       "\\item[Fare] 0\n",
       "\\item[Cabin] 0\n",
       "\\item[Embarked] 0\n",
       "\\end{description*}\n"
      ],
      "text/markdown": [
       "Survived\n",
       ":   0Pclass\n",
       ":   0Name\n",
       ":   0Sex\n",
       ":   0Age\n",
       ":   0SibSp\n",
       ":   0Parch\n",
       ":   0Ticket\n",
       ":   0Fare\n",
       ":   0Cabin\n",
       ":   0Embarked\n",
       ":   0\n",
       "\n"
      ],
      "text/plain": [
       "Survived   Pclass     Name      Sex      Age    SibSp    Parch   Ticket \n",
       "       0        0        0        0        0        0        0        0 \n",
       "    Fare    Cabin Embarked \n",
       "       0        0        0 "
      ]
     },
     "metadata": {},
     "output_type": "display_data"
    }
   ],
   "source": [
    "colSums(is.na(database))"
   ]
  },
  {
   "cell_type": "markdown",
   "metadata": {},
   "source": [
    "##### NOTA: No se considera siempre una buena práctica eliminar de golpe todos los datos ambigüos que se encuentren en una base. También es posible estimarlos utilizando alguna otra técnica de Machine Learning"
   ]
  },
  {
   "cell_type": "markdown",
   "metadata": {},
   "source": [
    "Usaremos ahora una paquetería para usar datos categóricos de forma más sencilla"
   ]
  },
  {
   "cell_type": "code",
   "execution_count": 9,
   "metadata": {},
   "outputs": [],
   "source": [
    "#install.packages('plyr')\n",
    "library('plyr')"
   ]
  },
  {
   "cell_type": "markdown",
   "metadata": {},
   "source": [
    "Vamos a cambiar las categorías de $Sex$ con la siguiente regla: 'male=0','female'=1 utilizando la función revalue de la paquetería plyr"
   ]
  },
  {
   "cell_type": "code",
   "execution_count": 10,
   "metadata": {},
   "outputs": [],
   "source": [
    "database$Sex<-revalue(factor(database$Sex),c('male'=0,'female'=1))"
   ]
  },
  {
   "cell_type": "code",
   "execution_count": 11,
   "metadata": {},
   "outputs": [
    {
     "data": {
      "text/html": [
       "<table>\n",
       "<thead><tr><th></th><th scope=col>Survived</th><th scope=col>Pclass</th><th scope=col>Name</th><th scope=col>Sex</th><th scope=col>Age</th><th scope=col>SibSp</th><th scope=col>Parch</th><th scope=col>Ticket</th><th scope=col>Fare</th><th scope=col>Cabin</th><th scope=col>Embarked</th></tr></thead>\n",
       "<tbody>\n",
       "\t<tr><th scope=row>10</th><td>1                                  </td><td>2                                  </td><td>Nasser, Mrs. Nicholas (Adele Achem)</td><td>1                                  </td><td>14                                 </td><td>1                                  </td><td>0                                  </td><td>237736                             </td><td> 30.0708                           </td><td>                                   </td><td>C                                  </td></tr>\n",
       "\t<tr><th scope=row>562</th><td>0                                  </td><td>3                                  </td><td>Sivic, Mr. Husein                  </td><td>0                                  </td><td>40                                 </td><td>0                                  </td><td>0                                  </td><td>349251                             </td><td>  7.8958                           </td><td>                                   </td><td>S                                  </td></tr>\n",
       "\t<tr><th scope=row>492</th><td>0                                  </td><td>3                                  </td><td>Windelov, Mr. Einar                </td><td>0                                  </td><td>21                                 </td><td>0                                  </td><td>0                                  </td><td>SOTON/OQ 3101317                   </td><td>  7.2500                           </td><td>                                   </td><td>S                                  </td></tr>\n",
       "\t<tr><th scope=row>21</th><td>0                                  </td><td>2                                  </td><td>Fynney, Mr. Joseph J               </td><td>0                                  </td><td>35                                 </td><td>0                                  </td><td>0                                  </td><td>239865                             </td><td> 26.0000                           </td><td>                                   </td><td>S                                  </td></tr>\n",
       "\t<tr><th scope=row>312</th><td>1                                  </td><td>1                                  </td><td>Ryerson, Miss. Emily Borie         </td><td>1                                  </td><td>18                                 </td><td>2                                  </td><td>2                                  </td><td>PC 17608                           </td><td>262.3750                           </td><td>B57 B59 B63 B66                    </td><td>C                                  </td></tr>\n",
       "\t<tr><th scope=row>819</th><td>0                                  </td><td>3                                  </td><td>Holm, Mr. John Fredrik Alexander   </td><td>0                                  </td><td>43                                 </td><td>0                                  </td><td>0                                  </td><td>C 7075                             </td><td>  6.4500                           </td><td>                                   </td><td>S                                  </td></tr>\n",
       "</tbody>\n",
       "</table>\n"
      ],
      "text/latex": [
       "\\begin{tabular}{r|lllllllllll}\n",
       "  & Survived & Pclass & Name & Sex & Age & SibSp & Parch & Ticket & Fare & Cabin & Embarked\\\\\n",
       "\\hline\n",
       "\t10 & 1                                   & 2                                   & Nasser, Mrs. Nicholas (Adele Achem) & 1                                   & 14                                  & 1                                   & 0                                   & 237736                              &  30.0708                            &                                     & C                                  \\\\\n",
       "\t562 & 0                                   & 3                                   & Sivic, Mr. Husein                   & 0                                   & 40                                  & 0                                   & 0                                   & 349251                              &   7.8958                            &                                     & S                                  \\\\\n",
       "\t492 & 0                                   & 3                                   & Windelov, Mr. Einar                 & 0                                   & 21                                  & 0                                   & 0                                   & SOTON/OQ 3101317                    &   7.2500                            &                                     & S                                  \\\\\n",
       "\t21 & 0                                   & 2                                   & Fynney, Mr. Joseph J                & 0                                   & 35                                  & 0                                   & 0                                   & 239865                              &  26.0000                            &                                     & S                                  \\\\\n",
       "\t312 & 1                                   & 1                                   & Ryerson, Miss. Emily Borie          & 1                                   & 18                                  & 2                                   & 2                                   & PC 17608                            & 262.3750                            & B57 B59 B63 B66                     & C                                  \\\\\n",
       "\t819 & 0                                   & 3                                   & Holm, Mr. John Fredrik Alexander    & 0                                   & 43                                  & 0                                   & 0                                   & C 7075                              &   6.4500                            &                                     & S                                  \\\\\n",
       "\\end{tabular}\n"
      ],
      "text/markdown": [
       "\n",
       "| <!--/--> | Survived | Pclass | Name | Sex | Age | SibSp | Parch | Ticket | Fare | Cabin | Embarked | \n",
       "|---|---|---|---|---|---|\n",
       "| 10 | 1                                   | 2                                   | Nasser, Mrs. Nicholas (Adele Achem) | 1                                   | 14                                  | 1                                   | 0                                   | 237736                              |  30.0708                            |                                     | C                                   | \n",
       "| 562 | 0                                   | 3                                   | Sivic, Mr. Husein                   | 0                                   | 40                                  | 0                                   | 0                                   | 349251                              |   7.8958                            |                                     | S                                   | \n",
       "| 492 | 0                                   | 3                                   | Windelov, Mr. Einar                 | 0                                   | 21                                  | 0                                   | 0                                   | SOTON/OQ 3101317                    |   7.2500                            |                                     | S                                   | \n",
       "| 21 | 0                                   | 2                                   | Fynney, Mr. Joseph J                | 0                                   | 35                                  | 0                                   | 0                                   | 239865                              |  26.0000                            |                                     | S                                   | \n",
       "| 312 | 1                                   | 1                                   | Ryerson, Miss. Emily Borie          | 1                                   | 18                                  | 2                                   | 2                                   | PC 17608                            | 262.3750                            | B57 B59 B63 B66                     | C                                   | \n",
       "| 819 | 0                                   | 3                                   | Holm, Mr. John Fredrik Alexander    | 0                                   | 43                                  | 0                                   | 0                                   | C 7075                              |   6.4500                            |                                     | S                                   | \n",
       "\n",
       "\n"
      ],
      "text/plain": [
       "    Survived Pclass Name                                Sex Age SibSp Parch\n",
       "10  1        2      Nasser, Mrs. Nicholas (Adele Achem) 1   14  1     0    \n",
       "562 0        3      Sivic, Mr. Husein                   0   40  0     0    \n",
       "492 0        3      Windelov, Mr. Einar                 0   21  0     0    \n",
       "21  0        2      Fynney, Mr. Joseph J                0   35  0     0    \n",
       "312 1        1      Ryerson, Miss. Emily Borie          1   18  2     2    \n",
       "819 0        3      Holm, Mr. John Fredrik Alexander    0   43  0     0    \n",
       "    Ticket           Fare     Cabin           Embarked\n",
       "10  237736            30.0708                 C       \n",
       "562 349251             7.8958                 S       \n",
       "492 SOTON/OQ 3101317   7.2500                 S       \n",
       "21  239865            26.0000                 S       \n",
       "312 PC 17608         262.3750 B57 B59 B63 B66 C       \n",
       "819 C 7075             6.4500                 S       "
      ]
     },
     "metadata": {},
     "output_type": "display_data"
    }
   ],
   "source": [
    "head(database)"
   ]
  },
  {
   "cell_type": "markdown",
   "metadata": {},
   "source": [
    "### Ejercicio 3:  Cambie las categoría de \"Embarked\" tomando en cuenta el orden en que abordaron los pasajeros el Titanic iniciando desde cero. A recordar:\n",
    "1. Southampton (S)=0\n",
    "2. Cherburgo (C)=1\n",
    "3. Queenstown (Q)=2"
   ]
  },
  {
   "cell_type": "code",
   "execution_count": 12,
   "metadata": {},
   "outputs": [],
   "source": [
    "database$Embarked<-revalue(factor(database$Embarked),c('S'=0,'C'=1,'Q'=2))"
   ]
  },
  {
   "cell_type": "code",
   "execution_count": 13,
   "metadata": {},
   "outputs": [
    {
     "data": {
      "text/html": [
       "<table>\n",
       "<thead><tr><th></th><th scope=col>Survived</th><th scope=col>Pclass</th><th scope=col>Name</th><th scope=col>Sex</th><th scope=col>Age</th><th scope=col>SibSp</th><th scope=col>Parch</th><th scope=col>Ticket</th><th scope=col>Fare</th><th scope=col>Cabin</th><th scope=col>Embarked</th></tr></thead>\n",
       "<tbody>\n",
       "\t<tr><th scope=row>10</th><td>1                                  </td><td>2                                  </td><td>Nasser, Mrs. Nicholas (Adele Achem)</td><td>1                                  </td><td>14                                 </td><td>1                                  </td><td>0                                  </td><td>237736                             </td><td> 30.0708                           </td><td>                                   </td><td>1                                  </td></tr>\n",
       "\t<tr><th scope=row>562</th><td>0                                  </td><td>3                                  </td><td>Sivic, Mr. Husein                  </td><td>0                                  </td><td>40                                 </td><td>0                                  </td><td>0                                  </td><td>349251                             </td><td>  7.8958                           </td><td>                                   </td><td>0                                  </td></tr>\n",
       "\t<tr><th scope=row>492</th><td>0                                  </td><td>3                                  </td><td>Windelov, Mr. Einar                </td><td>0                                  </td><td>21                                 </td><td>0                                  </td><td>0                                  </td><td>SOTON/OQ 3101317                   </td><td>  7.2500                           </td><td>                                   </td><td>0                                  </td></tr>\n",
       "\t<tr><th scope=row>21</th><td>0                                  </td><td>2                                  </td><td>Fynney, Mr. Joseph J               </td><td>0                                  </td><td>35                                 </td><td>0                                  </td><td>0                                  </td><td>239865                             </td><td> 26.0000                           </td><td>                                   </td><td>0                                  </td></tr>\n",
       "\t<tr><th scope=row>312</th><td>1                                  </td><td>1                                  </td><td>Ryerson, Miss. Emily Borie         </td><td>1                                  </td><td>18                                 </td><td>2                                  </td><td>2                                  </td><td>PC 17608                           </td><td>262.3750                           </td><td>B57 B59 B63 B66                    </td><td>1                                  </td></tr>\n",
       "\t<tr><th scope=row>819</th><td>0                                  </td><td>3                                  </td><td>Holm, Mr. John Fredrik Alexander   </td><td>0                                  </td><td>43                                 </td><td>0                                  </td><td>0                                  </td><td>C 7075                             </td><td>  6.4500                           </td><td>                                   </td><td>0                                  </td></tr>\n",
       "</tbody>\n",
       "</table>\n"
      ],
      "text/latex": [
       "\\begin{tabular}{r|lllllllllll}\n",
       "  & Survived & Pclass & Name & Sex & Age & SibSp & Parch & Ticket & Fare & Cabin & Embarked\\\\\n",
       "\\hline\n",
       "\t10 & 1                                   & 2                                   & Nasser, Mrs. Nicholas (Adele Achem) & 1                                   & 14                                  & 1                                   & 0                                   & 237736                              &  30.0708                            &                                     & 1                                  \\\\\n",
       "\t562 & 0                                   & 3                                   & Sivic, Mr. Husein                   & 0                                   & 40                                  & 0                                   & 0                                   & 349251                              &   7.8958                            &                                     & 0                                  \\\\\n",
       "\t492 & 0                                   & 3                                   & Windelov, Mr. Einar                 & 0                                   & 21                                  & 0                                   & 0                                   & SOTON/OQ 3101317                    &   7.2500                            &                                     & 0                                  \\\\\n",
       "\t21 & 0                                   & 2                                   & Fynney, Mr. Joseph J                & 0                                   & 35                                  & 0                                   & 0                                   & 239865                              &  26.0000                            &                                     & 0                                  \\\\\n",
       "\t312 & 1                                   & 1                                   & Ryerson, Miss. Emily Borie          & 1                                   & 18                                  & 2                                   & 2                                   & PC 17608                            & 262.3750                            & B57 B59 B63 B66                     & 1                                  \\\\\n",
       "\t819 & 0                                   & 3                                   & Holm, Mr. John Fredrik Alexander    & 0                                   & 43                                  & 0                                   & 0                                   & C 7075                              &   6.4500                            &                                     & 0                                  \\\\\n",
       "\\end{tabular}\n"
      ],
      "text/markdown": [
       "\n",
       "| <!--/--> | Survived | Pclass | Name | Sex | Age | SibSp | Parch | Ticket | Fare | Cabin | Embarked | \n",
       "|---|---|---|---|---|---|\n",
       "| 10 | 1                                   | 2                                   | Nasser, Mrs. Nicholas (Adele Achem) | 1                                   | 14                                  | 1                                   | 0                                   | 237736                              |  30.0708                            |                                     | 1                                   | \n",
       "| 562 | 0                                   | 3                                   | Sivic, Mr. Husein                   | 0                                   | 40                                  | 0                                   | 0                                   | 349251                              |   7.8958                            |                                     | 0                                   | \n",
       "| 492 | 0                                   | 3                                   | Windelov, Mr. Einar                 | 0                                   | 21                                  | 0                                   | 0                                   | SOTON/OQ 3101317                    |   7.2500                            |                                     | 0                                   | \n",
       "| 21 | 0                                   | 2                                   | Fynney, Mr. Joseph J                | 0                                   | 35                                  | 0                                   | 0                                   | 239865                              |  26.0000                            |                                     | 0                                   | \n",
       "| 312 | 1                                   | 1                                   | Ryerson, Miss. Emily Borie          | 1                                   | 18                                  | 2                                   | 2                                   | PC 17608                            | 262.3750                            | B57 B59 B63 B66                     | 1                                   | \n",
       "| 819 | 0                                   | 3                                   | Holm, Mr. John Fredrik Alexander    | 0                                   | 43                                  | 0                                   | 0                                   | C 7075                              |   6.4500                            |                                     | 0                                   | \n",
       "\n",
       "\n"
      ],
      "text/plain": [
       "    Survived Pclass Name                                Sex Age SibSp Parch\n",
       "10  1        2      Nasser, Mrs. Nicholas (Adele Achem) 1   14  1     0    \n",
       "562 0        3      Sivic, Mr. Husein                   0   40  0     0    \n",
       "492 0        3      Windelov, Mr. Einar                 0   21  0     0    \n",
       "21  0        2      Fynney, Mr. Joseph J                0   35  0     0    \n",
       "312 1        1      Ryerson, Miss. Emily Borie          1   18  2     2    \n",
       "819 0        3      Holm, Mr. John Fredrik Alexander    0   43  0     0    \n",
       "    Ticket           Fare     Cabin           Embarked\n",
       "10  237736            30.0708                 1       \n",
       "562 349251             7.8958                 0       \n",
       "492 SOTON/OQ 3101317   7.2500                 0       \n",
       "21  239865            26.0000                 0       \n",
       "312 PC 17608         262.3750 B57 B59 B63 B66 1       \n",
       "819 C 7075             6.4500                 0       "
      ]
     },
     "metadata": {},
     "output_type": "display_data"
    }
   ],
   "source": [
    "head(database)"
   ]
  },
  {
   "cell_type": "markdown",
   "metadata": {},
   "source": [
    "### Ejercicio 4: ¿Qué porcentaje de datos queda? Gener un subconjunto de entrenamiento con el 70% de los datos restantes y de prueba con el 30% sobrante. "
   ]
  },
  {
   "cell_type": "markdown",
   "metadata": {},
   "source": [
    "Únicamente dividimos el total de la nueva base de datos con el total de la base original"
   ]
  },
  {
   "cell_type": "code",
   "execution_count": 14,
   "metadata": {},
   "outputs": [
    {
     "data": {
      "text/html": [
       "0.801346801346801"
      ],
      "text/latex": [
       "0.801346801346801"
      ],
      "text/markdown": [
       "0.801346801346801"
      ],
      "text/plain": [
       "[1] 0.8013468"
      ]
     },
     "metadata": {},
     "output_type": "display_data"
    }
   ],
   "source": [
    "data_lost<-dim(database)[1]/dim(titanic_train)[1]\n",
    "data_lost"
   ]
  },
  {
   "cell_type": "markdown",
   "metadata": {},
   "source": [
    "Se establecen porcentajes y tamaños"
   ]
  },
  {
   "cell_type": "code",
   "execution_count": 15,
   "metadata": {},
   "outputs": [],
   "source": [
    "train_perc<-0.7\n",
    "test_perc<-0.3\n",
    "train_size<-dim(database)[1]*train_perc\n",
    "test_size<-dim(database)[1]*test_perc"
   ]
  },
  {
   "cell_type": "markdown",
   "metadata": {},
   "source": [
    "Puede ser que al final, no se tenga un número cerrado para el tamaño de ambas bases"
   ]
  },
  {
   "cell_type": "code",
   "execution_count": 16,
   "metadata": {},
   "outputs": [
    {
     "data": {
      "text/html": [
       "499.8"
      ],
      "text/latex": [
       "499.8"
      ],
      "text/markdown": [
       "499.8"
      ],
      "text/plain": [
       "[1] 499.8"
      ]
     },
     "metadata": {},
     "output_type": "display_data"
    }
   ],
   "source": [
    "train_size"
   ]
  },
  {
   "cell_type": "code",
   "execution_count": 155,
   "metadata": {},
   "outputs": [
    {
     "data": {
      "text/html": [
       "214.2"
      ],
      "text/latex": [
       "214.2"
      ],
      "text/markdown": [
       "214.2"
      ],
      "text/plain": [
       "[1] 214.2"
      ]
     },
     "metadata": {},
     "output_type": "display_data"
    }
   ],
   "source": [
    "test_size"
   ]
  },
  {
   "cell_type": "markdown",
   "metadata": {},
   "source": [
    "Simplemente truncamos el valor hacia abajo o arriba para tener una cantidad cerrada."
   ]
  },
  {
   "cell_type": "code",
   "execution_count": 19,
   "metadata": {},
   "outputs": [
    {
     "data": {
      "text/html": [
       "500"
      ],
      "text/latex": [
       "500"
      ],
      "text/markdown": [
       "500"
      ],
      "text/plain": [
       "[1] 500"
      ]
     },
     "metadata": {},
     "output_type": "display_data"
    }
   ],
   "source": [
    "train_size<-ceiling(train_size)\n",
    "train_size"
   ]
  },
  {
   "cell_type": "code",
   "execution_count": 17,
   "metadata": {},
   "outputs": [
    {
     "data": {
      "text/html": [
       "214"
      ],
      "text/latex": [
       "214"
      ],
      "text/markdown": [
       "214"
      ],
      "text/plain": [
       "[1] 214"
      ]
     },
     "metadata": {},
     "output_type": "display_data"
    }
   ],
   "source": [
    "test_size<-floor(test_size)\n",
    "test_size"
   ]
  },
  {
   "cell_type": "markdown",
   "metadata": {},
   "source": [
    "Recordemos que el tamaño total de la base antes de la partición es:"
   ]
  },
  {
   "cell_type": "code",
   "execution_count": 18,
   "metadata": {},
   "outputs": [
    {
     "data": {
      "text/html": [
       "<ol class=list-inline>\n",
       "\t<li>714</li>\n",
       "\t<li>11</li>\n",
       "</ol>\n"
      ],
      "text/latex": [
       "\\begin{enumerate*}\n",
       "\\item 714\n",
       "\\item 11\n",
       "\\end{enumerate*}\n"
      ],
      "text/markdown": [
       "1. 714\n",
       "2. 11\n",
       "\n",
       "\n"
      ],
      "text/plain": [
       "[1] 714  11"
      ]
     },
     "metadata": {},
     "output_type": "display_data"
    }
   ],
   "source": [
    "dim(database)"
   ]
  },
  {
   "cell_type": "markdown",
   "metadata": {},
   "source": [
    "Finalmente creamos ambas bases de datos"
   ]
  },
  {
   "cell_type": "code",
   "execution_count": 20,
   "metadata": {},
   "outputs": [],
   "source": [
    "train<-database[1:train_size,]\n",
    "test<-database[(train_size+1):(train_size+test_size),]"
   ]
  },
  {
   "cell_type": "code",
   "execution_count": 21,
   "metadata": {},
   "outputs": [
    {
     "data": {
      "text/html": [
       "<table>\n",
       "<thead><tr><th></th><th scope=col>Survived</th><th scope=col>Pclass</th><th scope=col>Name</th><th scope=col>Sex</th><th scope=col>Age</th><th scope=col>SibSp</th><th scope=col>Parch</th><th scope=col>Ticket</th><th scope=col>Fare</th><th scope=col>Cabin</th><th scope=col>Embarked</th></tr></thead>\n",
       "<tbody>\n",
       "\t<tr><th scope=row>754</th><td>0                                 </td><td>3                                 </td><td>Jonkoff, Mr. Lalio                </td><td>0                                 </td><td>23                                </td><td>0                                 </td><td>0                                 </td><td>349204                            </td><td> 7.8958                           </td><td>                                  </td><td>0                                 </td></tr>\n",
       "\t<tr><th scope=row>531</th><td>1                                 </td><td>2                                 </td><td>Quick, Miss. Phyllis May          </td><td>1                                 </td><td> 2                                </td><td>1                                 </td><td>1                                 </td><td>26360                             </td><td>26.0000                           </td><td>                                  </td><td>0                                 </td></tr>\n",
       "\t<tr><th scope=row>279</th><td>0                                 </td><td>3                                 </td><td>Rice, Master. Eric                </td><td>0                                 </td><td> 7                                </td><td>4                                 </td><td>1                                 </td><td>382652                            </td><td>29.1250                           </td><td>                                  </td><td>2                                 </td></tr>\n",
       "\t<tr><th scope=row>229</th><td>0                                 </td><td>2                                 </td><td>Fahlstrom, Mr. Arne Jonas         </td><td>0                                 </td><td>18                                </td><td>0                                 </td><td>0                                 </td><td>236171                            </td><td>13.0000                           </td><td>                                  </td><td>0                                 </td></tr>\n",
       "\t<tr><th scope=row>642</th><td>1                                 </td><td>1                                 </td><td>Sagesser, Mlle. Emma              </td><td>1                                 </td><td>24                                </td><td>0                                 </td><td>0                                 </td><td>PC 17477                          </td><td>69.3000                           </td><td>B35                               </td><td>1                                 </td></tr>\n",
       "\t<tr><th scope=row>430</th><td>1                                 </td><td>3                                 </td><td>Pickard, Mr. Berk (Berk Trembisky)</td><td>0                                 </td><td>32                                </td><td>0                                 </td><td>0                                 </td><td>SOTON/O.Q. 392078                 </td><td> 8.0500                           </td><td>E10                               </td><td>0                                 </td></tr>\n",
       "</tbody>\n",
       "</table>\n"
      ],
      "text/latex": [
       "\\begin{tabular}{r|lllllllllll}\n",
       "  & Survived & Pclass & Name & Sex & Age & SibSp & Parch & Ticket & Fare & Cabin & Embarked\\\\\n",
       "\\hline\n",
       "\t754 & 0                                  & 3                                  & Jonkoff, Mr. Lalio                 & 0                                  & 23                                 & 0                                  & 0                                  & 349204                             &  7.8958                            &                                    & 0                                 \\\\\n",
       "\t531 & 1                                  & 2                                  & Quick, Miss. Phyllis May           & 1                                  &  2                                 & 1                                  & 1                                  & 26360                              & 26.0000                            &                                    & 0                                 \\\\\n",
       "\t279 & 0                                  & 3                                  & Rice, Master. Eric                 & 0                                  &  7                                 & 4                                  & 1                                  & 382652                             & 29.1250                            &                                    & 2                                 \\\\\n",
       "\t229 & 0                                  & 2                                  & Fahlstrom, Mr. Arne Jonas          & 0                                  & 18                                 & 0                                  & 0                                  & 236171                             & 13.0000                            &                                    & 0                                 \\\\\n",
       "\t642 & 1                                  & 1                                  & Sagesser, Mlle. Emma               & 1                                  & 24                                 & 0                                  & 0                                  & PC 17477                           & 69.3000                            & B35                                & 1                                 \\\\\n",
       "\t430 & 1                                  & 3                                  & Pickard, Mr. Berk (Berk Trembisky) & 0                                  & 32                                 & 0                                  & 0                                  & SOTON/O.Q. 392078                  &  8.0500                            & E10                                & 0                                 \\\\\n",
       "\\end{tabular}\n"
      ],
      "text/markdown": [
       "\n",
       "| <!--/--> | Survived | Pclass | Name | Sex | Age | SibSp | Parch | Ticket | Fare | Cabin | Embarked | \n",
       "|---|---|---|---|---|---|\n",
       "| 754 | 0                                  | 3                                  | Jonkoff, Mr. Lalio                 | 0                                  | 23                                 | 0                                  | 0                                  | 349204                             |  7.8958                            |                                    | 0                                  | \n",
       "| 531 | 1                                  | 2                                  | Quick, Miss. Phyllis May           | 1                                  |  2                                 | 1                                  | 1                                  | 26360                              | 26.0000                            |                                    | 0                                  | \n",
       "| 279 | 0                                  | 3                                  | Rice, Master. Eric                 | 0                                  |  7                                 | 4                                  | 1                                  | 382652                             | 29.1250                            |                                    | 2                                  | \n",
       "| 229 | 0                                  | 2                                  | Fahlstrom, Mr. Arne Jonas          | 0                                  | 18                                 | 0                                  | 0                                  | 236171                             | 13.0000                            |                                    | 0                                  | \n",
       "| 642 | 1                                  | 1                                  | Sagesser, Mlle. Emma               | 1                                  | 24                                 | 0                                  | 0                                  | PC 17477                           | 69.3000                            | B35                                | 1                                  | \n",
       "| 430 | 1                                  | 3                                  | Pickard, Mr. Berk (Berk Trembisky) | 0                                  | 32                                 | 0                                  | 0                                  | SOTON/O.Q. 392078                  |  8.0500                            | E10                                | 0                                  | \n",
       "\n",
       "\n"
      ],
      "text/plain": [
       "    Survived Pclass Name                               Sex Age SibSp Parch\n",
       "754 0        3      Jonkoff, Mr. Lalio                 0   23  0     0    \n",
       "531 1        2      Quick, Miss. Phyllis May           1    2  1     1    \n",
       "279 0        3      Rice, Master. Eric                 0    7  4     1    \n",
       "229 0        2      Fahlstrom, Mr. Arne Jonas          0   18  0     0    \n",
       "642 1        1      Sagesser, Mlle. Emma               1   24  0     0    \n",
       "430 1        3      Pickard, Mr. Berk (Berk Trembisky) 0   32  0     0    \n",
       "    Ticket            Fare    Cabin Embarked\n",
       "754 349204             7.8958       0       \n",
       "531 26360             26.0000       0       \n",
       "279 382652            29.1250       2       \n",
       "229 236171            13.0000       0       \n",
       "642 PC 17477          69.3000 B35   1       \n",
       "430 SOTON/O.Q. 392078  8.0500 E10   0       "
      ]
     },
     "metadata": {},
     "output_type": "display_data"
    },
    {
     "name": "stdout",
     "output_type": "stream",
     "text": [
      "[1] 500  11\n"
     ]
    }
   ],
   "source": [
    "tail(train)\n",
    "print(dim(train))"
   ]
  },
  {
   "cell_type": "code",
   "execution_count": 161,
   "metadata": {},
   "outputs": [
    {
     "data": {
      "text/html": [
       "<table>\n",
       "<thead><tr><th></th><th scope=col>Survived</th><th scope=col>Pclass</th><th scope=col>Name</th><th scope=col>Sex</th><th scope=col>Age</th><th scope=col>SibSp</th><th scope=col>Parch</th><th scope=col>Ticket</th><th scope=col>Fare</th><th scope=col>Cabin</th><th scope=col>Embarked</th></tr></thead>\n",
       "<tbody>\n",
       "\t<tr><th scope=row>131</th><td>0                                             </td><td>3                                             </td><td>Drazenoic, Mr. Jozef                          </td><td>0                                             </td><td>33                                            </td><td>0                                             </td><td>0                                             </td><td>349241                                        </td><td> 7.8958                                       </td><td>                                              </td><td>1                                             </td></tr>\n",
       "\t<tr><th scope=row>133</th><td>0                                             </td><td>3                                             </td><td>Robins, Mrs. Alexander A (Grace Charity Laury)</td><td>1                                             </td><td>47                                            </td><td>1                                             </td><td>0                                             </td><td>A/5. 3337                                     </td><td>14.5000                                       </td><td>                                              </td><td>0                                             </td></tr>\n",
       "\t<tr><th scope=row>725</th><td>1                                             </td><td>1                                             </td><td>Chambers, Mr. Norman Campbell                 </td><td>0                                             </td><td>27                                            </td><td>1                                             </td><td>0                                             </td><td>113806                                        </td><td>53.1000                                       </td><td>E8                                            </td><td>0                                             </td></tr>\n",
       "\t<tr><th scope=row>1</th><td>0                                             </td><td>3                                             </td><td>Braund, Mr. Owen Harris                       </td><td>0                                             </td><td>22                                            </td><td>1                                             </td><td>0                                             </td><td>A/5 21171                                     </td><td> 7.2500                                       </td><td>                                              </td><td>0                                             </td></tr>\n",
       "\t<tr><th scope=row>748</th><td>1                                             </td><td>2                                             </td><td>Sinkkonen, Miss. Anna                         </td><td>1                                             </td><td>30                                            </td><td>0                                             </td><td>0                                             </td><td>250648                                        </td><td>13.0000                                       </td><td>                                              </td><td>0                                             </td></tr>\n",
       "\t<tr><th scope=row>490</th><td>1                                             </td><td>3                                             </td><td>Coutts, Master. Eden Leslie \"Neville\"         </td><td>0                                             </td><td> 9                                            </td><td>1                                             </td><td>1                                             </td><td>C.A. 37671                                    </td><td>15.9000                                       </td><td>                                              </td><td>0                                             </td></tr>\n",
       "</tbody>\n",
       "</table>\n"
      ],
      "text/latex": [
       "\\begin{tabular}{r|lllllllllll}\n",
       "  & Survived & Pclass & Name & Sex & Age & SibSp & Parch & Ticket & Fare & Cabin & Embarked\\\\\n",
       "\\hline\n",
       "\t131 & 0                                              & 3                                              & Drazenoic, Mr. Jozef                           & 0                                              & 33                                             & 0                                              & 0                                              & 349241                                         &  7.8958                                        &                                                & 1                                             \\\\\n",
       "\t133 & 0                                              & 3                                              & Robins, Mrs. Alexander A (Grace Charity Laury) & 1                                              & 47                                             & 1                                              & 0                                              & A/5. 3337                                      & 14.5000                                        &                                                & 0                                             \\\\\n",
       "\t725 & 1                                              & 1                                              & Chambers, Mr. Norman Campbell                  & 0                                              & 27                                             & 1                                              & 0                                              & 113806                                         & 53.1000                                        & E8                                             & 0                                             \\\\\n",
       "\t1 & 0                                              & 3                                              & Braund, Mr. Owen Harris                        & 0                                              & 22                                             & 1                                              & 0                                              & A/5 21171                                      &  7.2500                                        &                                                & 0                                             \\\\\n",
       "\t748 & 1                                              & 2                                              & Sinkkonen, Miss. Anna                          & 1                                              & 30                                             & 0                                              & 0                                              & 250648                                         & 13.0000                                        &                                                & 0                                             \\\\\n",
       "\t490 & 1                                              & 3                                              & Coutts, Master. Eden Leslie \"Neville\"          & 0                                              &  9                                             & 1                                              & 1                                              & C.A. 37671                                     & 15.9000                                        &                                                & 0                                             \\\\\n",
       "\\end{tabular}\n"
      ],
      "text/markdown": [
       "\n",
       "| <!--/--> | Survived | Pclass | Name | Sex | Age | SibSp | Parch | Ticket | Fare | Cabin | Embarked | \n",
       "|---|---|---|---|---|---|\n",
       "| 131 | 0                                              | 3                                              | Drazenoic, Mr. Jozef                           | 0                                              | 33                                             | 0                                              | 0                                              | 349241                                         |  7.8958                                        |                                                | 1                                              | \n",
       "| 133 | 0                                              | 3                                              | Robins, Mrs. Alexander A (Grace Charity Laury) | 1                                              | 47                                             | 1                                              | 0                                              | A/5. 3337                                      | 14.5000                                        |                                                | 0                                              | \n",
       "| 725 | 1                                              | 1                                              | Chambers, Mr. Norman Campbell                  | 0                                              | 27                                             | 1                                              | 0                                              | 113806                                         | 53.1000                                        | E8                                             | 0                                              | \n",
       "| 1 | 0                                              | 3                                              | Braund, Mr. Owen Harris                        | 0                                              | 22                                             | 1                                              | 0                                              | A/5 21171                                      |  7.2500                                        |                                                | 0                                              | \n",
       "| 748 | 1                                              | 2                                              | Sinkkonen, Miss. Anna                          | 1                                              | 30                                             | 0                                              | 0                                              | 250648                                         | 13.0000                                        |                                                | 0                                              | \n",
       "| 490 | 1                                              | 3                                              | Coutts, Master. Eden Leslie \"Neville\"          | 0                                              |  9                                             | 1                                              | 1                                              | C.A. 37671                                     | 15.9000                                        |                                                | 0                                              | \n",
       "\n",
       "\n"
      ],
      "text/plain": [
       "    Survived Pclass Name                                           Sex Age\n",
       "131 0        3      Drazenoic, Mr. Jozef                           0   33 \n",
       "133 0        3      Robins, Mrs. Alexander A (Grace Charity Laury) 1   47 \n",
       "725 1        1      Chambers, Mr. Norman Campbell                  0   27 \n",
       "1   0        3      Braund, Mr. Owen Harris                        0   22 \n",
       "748 1        2      Sinkkonen, Miss. Anna                          1   30 \n",
       "490 1        3      Coutts, Master. Eden Leslie \"Neville\"          0    9 \n",
       "    SibSp Parch Ticket     Fare    Cabin Embarked\n",
       "131 0     0     349241      7.8958       1       \n",
       "133 1     0     A/5. 3337  14.5000       0       \n",
       "725 1     0     113806     53.1000 E8    0       \n",
       "1   1     0     A/5 21171   7.2500       0       \n",
       "748 0     0     250648     13.0000       0       \n",
       "490 1     1     C.A. 37671 15.9000       0       "
      ]
     },
     "metadata": {},
     "output_type": "display_data"
    },
    {
     "name": "stdout",
     "output_type": "stream",
     "text": [
      "[1] 214  11\n"
     ]
    }
   ],
   "source": [
    "head(test)\n",
    "print(dim(test))"
   ]
  },
  {
   "cell_type": "markdown",
   "metadata": {},
   "source": [
    "### Ejercicio 5: Crear un Data Frame con columnas que contengan los siguientes valores y orden: Age|Fare|Survived para train "
   ]
  },
  {
   "cell_type": "code",
   "execution_count": 22,
   "metadata": {},
   "outputs": [
    {
     "data": {
      "text/html": [
       "<table>\n",
       "<thead><tr><th></th><th scope=col>Age</th><th scope=col>Fare</th><th scope=col>Survived</th></tr></thead>\n",
       "<tbody>\n",
       "\t<tr><th scope=row>10</th><td>14      </td><td> 30.0708</td><td>1       </td></tr>\n",
       "\t<tr><th scope=row>562</th><td>40      </td><td>  7.8958</td><td>0       </td></tr>\n",
       "\t<tr><th scope=row>492</th><td>21      </td><td>  7.2500</td><td>0       </td></tr>\n",
       "\t<tr><th scope=row>21</th><td>35      </td><td> 26.0000</td><td>0       </td></tr>\n",
       "\t<tr><th scope=row>312</th><td>18      </td><td>262.3750</td><td>1       </td></tr>\n",
       "\t<tr><th scope=row>819</th><td>43      </td><td>  6.4500</td><td>0       </td></tr>\n",
       "</tbody>\n",
       "</table>\n"
      ],
      "text/latex": [
       "\\begin{tabular}{r|lll}\n",
       "  & Age & Fare & Survived\\\\\n",
       "\\hline\n",
       "\t10 & 14       &  30.0708 & 1       \\\\\n",
       "\t562 & 40       &   7.8958 & 0       \\\\\n",
       "\t492 & 21       &   7.2500 & 0       \\\\\n",
       "\t21 & 35       &  26.0000 & 0       \\\\\n",
       "\t312 & 18       & 262.3750 & 1       \\\\\n",
       "\t819 & 43       &   6.4500 & 0       \\\\\n",
       "\\end{tabular}\n"
      ],
      "text/markdown": [
       "\n",
       "| <!--/--> | Age | Fare | Survived | \n",
       "|---|---|---|---|---|---|\n",
       "| 10 | 14       |  30.0708 | 1        | \n",
       "| 562 | 40       |   7.8958 | 0        | \n",
       "| 492 | 21       |   7.2500 | 0        | \n",
       "| 21 | 35       |  26.0000 | 0        | \n",
       "| 312 | 18       | 262.3750 | 1        | \n",
       "| 819 | 43       |   6.4500 | 0        | \n",
       "\n",
       "\n"
      ],
      "text/plain": [
       "    Age Fare     Survived\n",
       "10  14   30.0708 1       \n",
       "562 40    7.8958 0       \n",
       "492 21    7.2500 0       \n",
       "21  35   26.0000 0       \n",
       "312 18  262.3750 1       \n",
       "819 43    6.4500 0       "
      ]
     },
     "metadata": {},
     "output_type": "display_data"
    }
   ],
   "source": [
    "train_A<-train[c('Age','Fare','Survived')]\n",
    "head(train_A)"
   ]
  },
  {
   "cell_type": "markdown",
   "metadata": {},
   "source": [
    "Trataremos de visualizar un poco las relaciones entre estas dos variables y la supervivencia"
   ]
  },
  {
   "cell_type": "code",
   "execution_count": 23,
   "metadata": {},
   "outputs": [
    {
     "data": {
      "image/png": "[encoded data removed]",
      "text/plain": [
       "plot without title"
      ]
     },
     "metadata": {},
     "output_type": "display_data"
    }
   ],
   "source": [
    "colores <- c(\"red\", \"green\")\n",
    "plot(train_A[c('Age','Fare')], pch = 20,  cex = 2,\n",
    "     col = colores[factor(train_A$Survived)])\n",
    "par(xpd = TRUE)\n",
    "legend(\"topleft\", fill = colores, \n",
    "       legend = c( levels(factor(train_A$Survived))))"
   ]
  },
  {
   "cell_type": "markdown",
   "metadata": {},
   "source": [
    "### Ejercicio 6: Generar una base de datos de la siguiente forma Fare|Survived y Llamarla train_B. Luego graficar en el eje \"x\" a fare, en el \"y\" a Survived"
   ]
  },
  {
   "cell_type": "code",
   "execution_count": 24,
   "metadata": {},
   "outputs": [
    {
     "data": {
      "text/html": [
       "<table>\n",
       "<thead><tr><th></th><th scope=col>Fare</th><th scope=col>Survived</th></tr></thead>\n",
       "<tbody>\n",
       "\t<tr><th scope=row>10</th><td> 30.0708</td><td>1       </td></tr>\n",
       "\t<tr><th scope=row>562</th><td>  7.8958</td><td>0       </td></tr>\n",
       "\t<tr><th scope=row>492</th><td>  7.2500</td><td>0       </td></tr>\n",
       "\t<tr><th scope=row>21</th><td> 26.0000</td><td>0       </td></tr>\n",
       "\t<tr><th scope=row>312</th><td>262.3750</td><td>1       </td></tr>\n",
       "\t<tr><th scope=row>819</th><td>  6.4500</td><td>0       </td></tr>\n",
       "</tbody>\n",
       "</table>\n"
      ],
      "text/latex": [
       "\\begin{tabular}{r|ll}\n",
       "  & Fare & Survived\\\\\n",
       "\\hline\n",
       "\t10 &  30.0708 & 1       \\\\\n",
       "\t562 &   7.8958 & 0       \\\\\n",
       "\t492 &   7.2500 & 0       \\\\\n",
       "\t21 &  26.0000 & 0       \\\\\n",
       "\t312 & 262.3750 & 1       \\\\\n",
       "\t819 &   6.4500 & 0       \\\\\n",
       "\\end{tabular}\n"
      ],
      "text/markdown": [
       "\n",
       "| <!--/--> | Fare | Survived | \n",
       "|---|---|---|---|---|---|\n",
       "| 10 |  30.0708 | 1        | \n",
       "| 562 |   7.8958 | 0        | \n",
       "| 492 |   7.2500 | 0        | \n",
       "| 21 |  26.0000 | 0        | \n",
       "| 312 | 262.3750 | 1        | \n",
       "| 819 |   6.4500 | 0        | \n",
       "\n",
       "\n"
      ],
      "text/plain": [
       "    Fare     Survived\n",
       "10   30.0708 1       \n",
       "562   7.8958 0       \n",
       "492   7.2500 0       \n",
       "21   26.0000 0       \n",
       "312 262.3750 1       \n",
       "819   6.4500 0       "
      ]
     },
     "metadata": {},
     "output_type": "display_data"
    }
   ],
   "source": [
    "train_B<-train[c('Fare','Survived')]\n",
    "head(train_B)"
   ]
  },
  {
   "cell_type": "code",
   "execution_count": 165,
   "metadata": {
    "scrolled": false
   },
   "outputs": [
    {
     "data": {
      "image/png": "[encoded data removed]",
      "text/plain": [
       "plot without title"
      ]
     },
     "metadata": {},
     "output_type": "display_data"
    }
   ],
   "source": [
    "plot(train_B[c('Fare','Survived')], pch = 20,  cex = 2)"
   ]
  },
  {
   "cell_type": "markdown",
   "metadata": {},
   "source": [
    "### ¿Cómo puede funcionar una regresión para clasificar?"
   ]
  },
  {
   "cell_type": "markdown",
   "metadata": {},
   "source": [
    "Recordando el modelo lineal simple:\n",
    "\n",
    "$f(x,\\theta)=\\theta_0+\\theta_1 x$\n",
    "\n",
    "Donde:\n",
    "1. Intercepto = $\\theta_0$\n",
    "2. Pendiente = $\\theta_1$"
   ]
  },
  {
   "cell_type": "code",
   "execution_count": 25,
   "metadata": {},
   "outputs": [
    {
     "data": {
      "text/html": [
       "<dl class=dl-horizontal>\n",
       "\t<dt>(Intercept)</dt>\n",
       "\t\t<dd>0.345904135807863</dd>\n",
       "\t<dt>Fare</dt>\n",
       "\t\t<dd>0.00226232380699883</dd>\n",
       "</dl>\n"
      ],
      "text/latex": [
       "\\begin{description*}\n",
       "\\item[(Intercept)] 0.345904135807863\n",
       "\\item[Fare] 0.00226232380699883\n",
       "\\end{description*}\n"
      ],
      "text/markdown": [
       "(Intercept)\n",
       ":   0.345904135807863Fare\n",
       ":   0.00226232380699883\n",
       "\n"
      ],
      "text/plain": [
       "(Intercept)        Fare \n",
       "0.345904136 0.002262324 "
      ]
     },
     "metadata": {},
     "output_type": "display_data"
    }
   ],
   "source": [
    "linearmodel <- lm(Survived~Fare, data = train_B)\n",
    "linearmodel$coefficients"
   ]
  },
  {
   "cell_type": "markdown",
   "metadata": {},
   "source": [
    "Ahora creamos nuestro vector de $\\theta$s transformando los coeficientes en datos numéericos"
   ]
  },
  {
   "cell_type": "code",
   "execution_count": 26,
   "metadata": {},
   "outputs": [
    {
     "data": {
      "text/html": [
       "<ol class=list-inline>\n",
       "\t<li>0.345904135807863</li>\n",
       "\t<li>0.00226232380699883</li>\n",
       "</ol>\n"
      ],
      "text/latex": [
       "\\begin{enumerate*}\n",
       "\\item 0.345904135807863\n",
       "\\item 0.00226232380699883\n",
       "\\end{enumerate*}\n"
      ],
      "text/markdown": [
       "1. 0.345904135807863\n",
       "2. 0.00226232380699883\n",
       "\n",
       "\n"
      ],
      "text/plain": [
       "[1] 0.345904136 0.002262324"
      ]
     },
     "metadata": {},
     "output_type": "display_data"
    }
   ],
   "source": [
    "theta<-as.numeric(linearmodel$coefficients)\n",
    "theta"
   ]
  },
  {
   "cell_type": "markdown",
   "metadata": {},
   "source": [
    "Aplicamos la fórmula arriba puesta"
   ]
  },
  {
   "cell_type": "code",
   "execution_count": 27,
   "metadata": {},
   "outputs": [],
   "source": [
    "x<-train_B$Fare\n",
    "linearformula<-theta[1]+theta[2]*x"
   ]
  },
  {
   "cell_type": "markdown",
   "metadata": {},
   "source": [
    "Procedemos a graficar"
   ]
  },
  {
   "cell_type": "code",
   "execution_count": 28,
   "metadata": {
    "scrolled": false
   },
   "outputs": [
    {
     "data": {
      "image/png": "[encoded data removed]",
      "text/plain": [
       "plot without title"
      ]
     },
     "metadata": {},
     "output_type": "display_data"
    }
   ],
   "source": [
    "plot(train_B[c('Fare','Survived')], pch = 20,  cex = 2)\n",
    "lines(x, linearformula, col=\"red\", lwd=2)"
   ]
  },
  {
   "cell_type": "markdown",
   "metadata": {},
   "source": [
    "## ¿Qué está mal aquí?"
   ]
  },
  {
   "cell_type": "markdown",
   "metadata": {},
   "source": [
    "El modelo logístico es de la siguiente forma:\n",
    "$f(x,\\theta)=\\frac{1}{1+e^{-(\\theta_0+\\theta_1x)}}$"
   ]
  },
  {
   "cell_type": "code",
   "execution_count": 29,
   "metadata": {},
   "outputs": [
    {
     "data": {
      "text/html": [
       "<dl class=dl-horizontal>\n",
       "\t<dt>(Intercept)</dt>\n",
       "\t\t<dd>-0.79705694820109</dd>\n",
       "\t<dt>Fare</dt>\n",
       "\t\t<dd>0.0155380434558331</dd>\n",
       "</dl>\n"
      ],
      "text/latex": [
       "\\begin{description*}\n",
       "\\item[(Intercept)] -0.79705694820109\n",
       "\\item[Fare] 0.0155380434558331\n",
       "\\end{description*}\n"
      ],
      "text/markdown": [
       "(Intercept)\n",
       ":   -0.79705694820109Fare\n",
       ":   0.0155380434558331\n",
       "\n"
      ],
      "text/plain": [
       "(Intercept)        Fare \n",
       "-0.79705695  0.01553804 "
      ]
     },
     "metadata": {},
     "output_type": "display_data"
    }
   ],
   "source": [
    "logisticmodel<-glm(Survived~Fare, data = train_B,family=binomial)\n",
    "logisticmodel$coefficients"
   ]
  },
  {
   "cell_type": "markdown",
   "metadata": {},
   "source": [
    "Par ahorrarnos todo el \"show\" anterior, haremos directamente la gráfica de ajuste mediante ggplot2..(lo siento)"
   ]
  },
  {
   "cell_type": "code",
   "execution_count": 30,
   "metadata": {},
   "outputs": [],
   "source": [
    "library('ggplot2')"
   ]
  },
  {
   "cell_type": "code",
   "execution_count": 32,
   "metadata": {},
   "outputs": [
    {
     "data": {},
     "metadata": {},
     "output_type": "display_data"
    },
    {
     "data": {
      "image/png": "[encoded data removed]",
      "text/plain": [
       "plot without title"
      ]
     },
     "metadata": {},
     "output_type": "display_data"
    }
   ],
   "source": [
    "ggplot(train_B, aes(x=Fare, y=Survived)) + geom_point()+\n",
    "    stat_smooth(method=\"glm\", method.args=list(family=\"binomial\"),se=TRUE)"
   ]
  },
  {
   "cell_type": "markdown",
   "metadata": {},
   "source": [
    "Procedemos a generar predicciones del entrenamiento. Es decir $\\bar{y}_{train}$. Primero generamos el vector de predicciones"
   ]
  },
  {
   "cell_type": "code",
   "execution_count": 33,
   "metadata": {},
   "outputs": [
    {
     "data": {
      "text/html": [
       "<table>\n",
       "<thead><tr><th></th><th scope=col>Probs</th></tr></thead>\n",
       "<tbody>\n",
       "\t<tr><th scope=row>10</th><td>0.4182855</td></tr>\n",
       "\t<tr><th scope=row>562</th><td>0.3375186</td></tr>\n",
       "\t<tr><th scope=row>492</th><td>0.3352786</td></tr>\n",
       "\t<tr><th scope=row>21</th><td>0.4029790</td></tr>\n",
       "\t<tr><th scope=row>312</th><td>0.9637271</td></tr>\n",
       "\t<tr><th scope=row>819</th><td>0.3325140</td></tr>\n",
       "</tbody>\n",
       "</table>\n"
      ],
      "text/latex": [
       "\\begin{tabular}{r|l}\n",
       "  & Probs\\\\\n",
       "\\hline\n",
       "\t10 & 0.4182855\\\\\n",
       "\t562 & 0.3375186\\\\\n",
       "\t492 & 0.3352786\\\\\n",
       "\t21 & 0.4029790\\\\\n",
       "\t312 & 0.9637271\\\\\n",
       "\t819 & 0.3325140\\\\\n",
       "\\end{tabular}\n"
      ],
      "text/markdown": [
       "\n",
       "| <!--/--> | Probs | \n",
       "|---|---|---|---|---|---|\n",
       "| 10 | 0.4182855 | \n",
       "| 562 | 0.3375186 | \n",
       "| 492 | 0.3352786 | \n",
       "| 21 | 0.4029790 | \n",
       "| 312 | 0.9637271 | \n",
       "| 819 | 0.3325140 | \n",
       "\n",
       "\n"
      ],
      "text/plain": [
       "    Probs    \n",
       "10  0.4182855\n",
       "562 0.3375186\n",
       "492 0.3352786\n",
       "21  0.4029790\n",
       "312 0.9637271\n",
       "819 0.3325140"
      ]
     },
     "metadata": {},
     "output_type": "display_data"
    }
   ],
   "source": [
    "train[c('Probs')]<-data.frame(predict(logisticmodel,\n",
    "                                      train_B,type=\"response\"))\n",
    "head(train[c('Probs')])"
   ]
  },
  {
   "cell_type": "markdown",
   "metadata": {},
   "source": [
    "Ahora comparamos con los resultados de las predicciones con los valores de train"
   ]
  },
  {
   "cell_type": "code",
   "execution_count": 34,
   "metadata": {},
   "outputs": [
    {
     "data": {
      "text/html": [
       "<table>\n",
       "<thead><tr><th></th><th scope=col>Survived</th><th scope=col>Probs</th></tr></thead>\n",
       "<tbody>\n",
       "\t<tr><th scope=row>10</th><td>1        </td><td>0.4182855</td></tr>\n",
       "\t<tr><th scope=row>562</th><td>0        </td><td>0.3375186</td></tr>\n",
       "\t<tr><th scope=row>492</th><td>0        </td><td>0.3352786</td></tr>\n",
       "\t<tr><th scope=row>21</th><td>0        </td><td>0.4029790</td></tr>\n",
       "\t<tr><th scope=row>312</th><td>1        </td><td>0.9637271</td></tr>\n",
       "\t<tr><th scope=row>819</th><td>0        </td><td>0.3325140</td></tr>\n",
       "</tbody>\n",
       "</table>\n"
      ],
      "text/latex": [
       "\\begin{tabular}{r|ll}\n",
       "  & Survived & Probs\\\\\n",
       "\\hline\n",
       "\t10 & 1         & 0.4182855\\\\\n",
       "\t562 & 0         & 0.3375186\\\\\n",
       "\t492 & 0         & 0.3352786\\\\\n",
       "\t21 & 0         & 0.4029790\\\\\n",
       "\t312 & 1         & 0.9637271\\\\\n",
       "\t819 & 0         & 0.3325140\\\\\n",
       "\\end{tabular}\n"
      ],
      "text/markdown": [
       "\n",
       "| <!--/--> | Survived | Probs | \n",
       "|---|---|---|---|---|---|\n",
       "| 10 | 1         | 0.4182855 | \n",
       "| 562 | 0         | 0.3375186 | \n",
       "| 492 | 0         | 0.3352786 | \n",
       "| 21 | 0         | 0.4029790 | \n",
       "| 312 | 1         | 0.9637271 | \n",
       "| 819 | 0         | 0.3325140 | \n",
       "\n",
       "\n"
      ],
      "text/plain": [
       "    Survived Probs    \n",
       "10  1        0.4182855\n",
       "562 0        0.3375186\n",
       "492 0        0.3352786\n",
       "21  0        0.4029790\n",
       "312 1        0.9637271\n",
       "819 0        0.3325140"
      ]
     },
     "metadata": {},
     "output_type": "display_data"
    }
   ],
   "source": [
    "compare<-train[c('Survived','Probs')]\n",
    "head(compare)"
   ]
  },
  {
   "cell_type": "markdown",
   "metadata": {},
   "source": [
    "Se aplicará la regla de decisión. Si la probabilidad es mayor a 0.5, entonces se habrá sobrevivido y será 1. De lo contrario habrá ocurrido una muerte y será 0"
   ]
  },
  {
   "cell_type": "code",
   "execution_count": 43,
   "metadata": {},
   "outputs": [
    {
     "data": {
      "text/html": [
       "<table>\n",
       "<thead><tr><th></th><th scope=col>Survived</th><th scope=col>Probs</th><th scope=col>Prediction</th><th scope=col>Accuracy</th></tr></thead>\n",
       "<tbody>\n",
       "\t<tr><th scope=row>10</th><td>1        </td><td>0.4182855</td><td>0        </td><td>0        </td></tr>\n",
       "\t<tr><th scope=row>562</th><td>0        </td><td>0.3375186</td><td>0        </td><td>1        </td></tr>\n",
       "\t<tr><th scope=row>492</th><td>0        </td><td>0.3352786</td><td>0        </td><td>1        </td></tr>\n",
       "\t<tr><th scope=row>21</th><td>0        </td><td>0.4029790</td><td>0        </td><td>1        </td></tr>\n",
       "\t<tr><th scope=row>312</th><td>1        </td><td>0.9637271</td><td>1        </td><td>1        </td></tr>\n",
       "\t<tr><th scope=row>819</th><td>0        </td><td>0.3325140</td><td>0        </td><td>1        </td></tr>\n",
       "</tbody>\n",
       "</table>\n"
      ],
      "text/latex": [
       "\\begin{tabular}{r|llll}\n",
       "  & Survived & Probs & Prediction & Accuracy\\\\\n",
       "\\hline\n",
       "\t10 & 1         & 0.4182855 & 0         & 0        \\\\\n",
       "\t562 & 0         & 0.3375186 & 0         & 1        \\\\\n",
       "\t492 & 0         & 0.3352786 & 0         & 1        \\\\\n",
       "\t21 & 0         & 0.4029790 & 0         & 1        \\\\\n",
       "\t312 & 1         & 0.9637271 & 1         & 1        \\\\\n",
       "\t819 & 0         & 0.3325140 & 0         & 1        \\\\\n",
       "\\end{tabular}\n"
      ],
      "text/markdown": [
       "\n",
       "| <!--/--> | Survived | Probs | Prediction | Accuracy | \n",
       "|---|---|---|---|---|---|\n",
       "| 10 | 1         | 0.4182855 | 0         | 0         | \n",
       "| 562 | 0         | 0.3375186 | 0         | 1         | \n",
       "| 492 | 0         | 0.3352786 | 0         | 1         | \n",
       "| 21 | 0         | 0.4029790 | 0         | 1         | \n",
       "| 312 | 1         | 0.9637271 | 1         | 1         | \n",
       "| 819 | 0         | 0.3325140 | 0         | 1         | \n",
       "\n",
       "\n"
      ],
      "text/plain": [
       "    Survived Probs     Prediction Accuracy\n",
       "10  1        0.4182855 0          0       \n",
       "562 0        0.3375186 0          1       \n",
       "492 0        0.3352786 0          1       \n",
       "21  0        0.4029790 0          1       \n",
       "312 1        0.9637271 1          1       \n",
       "819 0        0.3325140 0          1       "
      ]
     },
     "metadata": {},
     "output_type": "display_data"
    }
   ],
   "source": [
    "Prediction<-vector()\n",
    "for(i in 1:dim(train)[1])\n",
    "{\n",
    "    if(compare[i,2]>0.5)\n",
    "    {\n",
    "            Prediction[i]<-1\n",
    "    }\n",
    "    else\n",
    "    {\n",
    "            Prediction[i]<-0\n",
    "    }    \n",
    "}\n",
    "compare[c('Prediction')]<-Prediction\n",
    "head(compare)"
   ]
  },
  {
   "cell_type": "code",
   "execution_count": 37,
   "metadata": {},
   "outputs": [
    {
     "data": {
      "text/html": [
       "<table>\n",
       "<thead><tr><th></th><th scope=col>Survived</th><th scope=col>Probs</th><th scope=col>Prediction</th><th scope=col>Accuracy</th></tr></thead>\n",
       "<tbody>\n",
       "\t<tr><th scope=row>10</th><td>1        </td><td>0.4182855</td><td>0        </td><td>0        </td></tr>\n",
       "\t<tr><th scope=row>562</th><td>0        </td><td>0.3375186</td><td>0        </td><td>1        </td></tr>\n",
       "\t<tr><th scope=row>492</th><td>0        </td><td>0.3352786</td><td>0        </td><td>1        </td></tr>\n",
       "\t<tr><th scope=row>21</th><td>0        </td><td>0.4029790</td><td>0        </td><td>1        </td></tr>\n",
       "\t<tr><th scope=row>312</th><td>1        </td><td>0.9637271</td><td>1        </td><td>1        </td></tr>\n",
       "\t<tr><th scope=row>819</th><td>0        </td><td>0.3325140</td><td>0        </td><td>1        </td></tr>\n",
       "</tbody>\n",
       "</table>\n"
      ],
      "text/latex": [
       "\\begin{tabular}{r|llll}\n",
       "  & Survived & Probs & Prediction & Accuracy\\\\\n",
       "\\hline\n",
       "\t10 & 1         & 0.4182855 & 0         & 0        \\\\\n",
       "\t562 & 0         & 0.3375186 & 0         & 1        \\\\\n",
       "\t492 & 0         & 0.3352786 & 0         & 1        \\\\\n",
       "\t21 & 0         & 0.4029790 & 0         & 1        \\\\\n",
       "\t312 & 1         & 0.9637271 & 1         & 1        \\\\\n",
       "\t819 & 0         & 0.3325140 & 0         & 1        \\\\\n",
       "\\end{tabular}\n"
      ],
      "text/markdown": [
       "\n",
       "| <!--/--> | Survived | Probs | Prediction | Accuracy | \n",
       "|---|---|---|---|---|---|\n",
       "| 10 | 1         | 0.4182855 | 0         | 0         | \n",
       "| 562 | 0         | 0.3375186 | 0         | 1         | \n",
       "| 492 | 0         | 0.3352786 | 0         | 1         | \n",
       "| 21 | 0         | 0.4029790 | 0         | 1         | \n",
       "| 312 | 1         | 0.9637271 | 1         | 1         | \n",
       "| 819 | 0         | 0.3325140 | 0         | 1         | \n",
       "\n",
       "\n"
      ],
      "text/plain": [
       "    Survived Probs     Prediction Accuracy\n",
       "10  1        0.4182855 0          0       \n",
       "562 0        0.3375186 0          1       \n",
       "492 0        0.3352786 0          1       \n",
       "21  0        0.4029790 0          1       \n",
       "312 1        0.9637271 1          1       \n",
       "819 0        0.3325140 0          1       "
      ]
     },
     "metadata": {},
     "output_type": "display_data"
    }
   ],
   "source": [
    "Accuracy<-vector()\n",
    "for(i in 1:dim(train)[1])\n",
    "{\n",
    "    if(compare[i,1]==compare[i,3])\n",
    "    {\n",
    "            Accuracy[i]<-1\n",
    "    }\n",
    "    else\n",
    "    {\n",
    "            Accuracy[i]<-0\n",
    "    }    \n",
    "}\n",
    "compare[c('Accuracy')]<-Accuracy\n",
    "head(compare)"
   ]
  },
  {
   "cell_type": "markdown",
   "metadata": {},
   "source": [
    "Veremos ahora la forma de calcular el Accuracy y MSE usando la paquetería MLmetrics"
   ]
  },
  {
   "cell_type": "code",
   "execution_count": 39,
   "metadata": {},
   "outputs": [],
   "source": [
    "library('MLmetrics')"
   ]
  },
  {
   "cell_type": "code",
   "execution_count": 45,
   "metadata": {},
   "outputs": [
    {
     "data": {
      "text/html": [
       "0.666"
      ],
      "text/latex": [
       "0.666"
      ],
      "text/markdown": [
       "0.666"
      ],
      "text/plain": [
       "[1] 0.666"
      ]
     },
     "metadata": {},
     "output_type": "display_data"
    }
   ],
   "source": [
    "Accuracy(compare[c('Prediction')][,1],\n",
    "         compare[c('Survived')][,1])"
   ]
  },
  {
   "cell_type": "code",
   "execution_count": 46,
   "metadata": {},
   "outputs": [
    {
     "data": {
      "text/html": [
       "0.334"
      ],
      "text/latex": [
       "0.334"
      ],
      "text/markdown": [
       "0.334"
      ],
      "text/plain": [
       "[1] 0.334"
      ]
     },
     "metadata": {},
     "output_type": "display_data"
    }
   ],
   "source": [
    "MSE(compare[c('Prediction')][,1],compare[c('Survived')][,1])"
   ]
  },
  {
   "cell_type": "markdown",
   "metadata": {},
   "source": [
    "### Ejercicio 7: Hacer también la predicción para la base de testing"
   ]
  },
  {
   "cell_type": "markdown",
   "metadata": {},
   "source": [
    "Se procederá en este caso a calcular  $\\bar{y}_{test}$"
   ]
  },
  {
   "cell_type": "code",
   "execution_count": 49,
   "metadata": {},
   "outputs": [
    {
     "data": {
      "text/html": [
       "<table>\n",
       "<thead><tr><th></th><th scope=col>Survived</th><th scope=col>Probs</th></tr></thead>\n",
       "<tbody>\n",
       "\t<tr><th scope=row>41</th><td>0        </td><td>0.3430269</td></tr>\n",
       "\t<tr><th scope=row>44</th><td>1        </td><td>0.4623222</td></tr>\n",
       "\t<tr><th scope=row>464</th><td>0        </td><td>0.3554742</td></tr>\n",
       "\t<tr><th scope=row>873</th><td>0        </td><td>0.3275324</td></tr>\n",
       "\t<tr><th scope=row>72</th><td>0        </td><td>0.4829260</td></tr>\n",
       "\t<tr><th scope=row>136</th><td>0        </td><td>0.3627901</td></tr>\n",
       "</tbody>\n",
       "</table>\n"
      ],
      "text/latex": [
       "\\begin{tabular}{r|ll}\n",
       "  & Survived & Probs\\\\\n",
       "\\hline\n",
       "\t41 & 0         & 0.3430269\\\\\n",
       "\t44 & 1         & 0.4623222\\\\\n",
       "\t464 & 0         & 0.3554742\\\\\n",
       "\t873 & 0         & 0.3275324\\\\\n",
       "\t72 & 0         & 0.4829260\\\\\n",
       "\t136 & 0         & 0.3627901\\\\\n",
       "\\end{tabular}\n"
      ],
      "text/markdown": [
       "\n",
       "| <!--/--> | Survived | Probs | \n",
       "|---|---|---|---|---|---|\n",
       "| 41 | 0         | 0.3430269 | \n",
       "| 44 | 1         | 0.4623222 | \n",
       "| 464 | 0         | 0.3554742 | \n",
       "| 873 | 0         | 0.3275324 | \n",
       "| 72 | 0         | 0.4829260 | \n",
       "| 136 | 0         | 0.3627901 | \n",
       "\n",
       "\n"
      ],
      "text/plain": [
       "    Survived Probs    \n",
       "41  0        0.3430269\n",
       "44  1        0.4623222\n",
       "464 0        0.3554742\n",
       "873 0        0.3275324\n",
       "72  0        0.4829260\n",
       "136 0        0.3627901"
      ]
     },
     "metadata": {},
     "output_type": "display_data"
    }
   ],
   "source": [
    "test[c('Probs')]<-predict(logisticmodel,test,type=\"response\")\n",
    "compare_test<-test[c('Survived','Probs')]\n",
    "head(compare_test)"
   ]
  },
  {
   "cell_type": "markdown",
   "metadata": {},
   "source": [
    "Generamos regla de evaluación"
   ]
  },
  {
   "cell_type": "code",
   "execution_count": 50,
   "metadata": {},
   "outputs": [
    {
     "data": {
      "text/html": [
       "<table>\n",
       "<thead><tr><th></th><th scope=col>Survived</th><th scope=col>Probs</th><th scope=col>Prediction</th></tr></thead>\n",
       "<tbody>\n",
       "\t<tr><th scope=row>41</th><td>0        </td><td>0.3430269</td><td>0        </td></tr>\n",
       "\t<tr><th scope=row>44</th><td>1        </td><td>0.4623222</td><td>0        </td></tr>\n",
       "\t<tr><th scope=row>464</th><td>0        </td><td>0.3554742</td><td>0        </td></tr>\n",
       "\t<tr><th scope=row>873</th><td>0        </td><td>0.3275324</td><td>0        </td></tr>\n",
       "\t<tr><th scope=row>72</th><td>0        </td><td>0.4829260</td><td>0        </td></tr>\n",
       "\t<tr><th scope=row>136</th><td>0        </td><td>0.3627901</td><td>0        </td></tr>\n",
       "</tbody>\n",
       "</table>\n"
      ],
      "text/latex": [
       "\\begin{tabular}{r|lll}\n",
       "  & Survived & Probs & Prediction\\\\\n",
       "\\hline\n",
       "\t41 & 0         & 0.3430269 & 0        \\\\\n",
       "\t44 & 1         & 0.4623222 & 0        \\\\\n",
       "\t464 & 0         & 0.3554742 & 0        \\\\\n",
       "\t873 & 0         & 0.3275324 & 0        \\\\\n",
       "\t72 & 0         & 0.4829260 & 0        \\\\\n",
       "\t136 & 0         & 0.3627901 & 0        \\\\\n",
       "\\end{tabular}\n"
      ],
      "text/markdown": [
       "\n",
       "| <!--/--> | Survived | Probs | Prediction | \n",
       "|---|---|---|---|---|---|\n",
       "| 41 | 0         | 0.3430269 | 0         | \n",
       "| 44 | 1         | 0.4623222 | 0         | \n",
       "| 464 | 0         | 0.3554742 | 0         | \n",
       "| 873 | 0         | 0.3275324 | 0         | \n",
       "| 72 | 0         | 0.4829260 | 0         | \n",
       "| 136 | 0         | 0.3627901 | 0         | \n",
       "\n",
       "\n"
      ],
      "text/plain": [
       "    Survived Probs     Prediction\n",
       "41  0        0.3430269 0         \n",
       "44  1        0.4623222 0         \n",
       "464 0        0.3554742 0         \n",
       "873 0        0.3275324 0         \n",
       "72  0        0.4829260 0         \n",
       "136 0        0.3627901 0         "
      ]
     },
     "metadata": {},
     "output_type": "display_data"
    }
   ],
   "source": [
    "Prediction_test<-vector()\n",
    "for(i in 1:dim(test)[1])\n",
    "{\n",
    "    if(compare_test[i,2]>0.5)\n",
    "    {\n",
    "            Prediction_test[i]<-1\n",
    "    }\n",
    "    else\n",
    "    {\n",
    "            Prediction_test[i]<-0\n",
    "    }    \n",
    "}\n",
    "compare_test[c('Prediction')]<-Prediction_test\n",
    "head(compare_test)"
   ]
  },
  {
   "cell_type": "markdown",
   "metadata": {},
   "source": [
    "Finalmente calculamos Accuracy y MSE"
   ]
  },
  {
   "cell_type": "code",
   "execution_count": 51,
   "metadata": {},
   "outputs": [
    {
     "data": {
      "text/html": [
       "0.700934579439252"
      ],
      "text/latex": [
       "0.700934579439252"
      ],
      "text/markdown": [
       "0.700934579439252"
      ],
      "text/plain": [
       "[1] 0.7009346"
      ]
     },
     "metadata": {},
     "output_type": "display_data"
    }
   ],
   "source": [
    "Accuracy(compare_test[c('Prediction')][,1],\n",
    "         compare_test[c('Survived')][,1])"
   ]
  },
  {
   "cell_type": "code",
   "execution_count": 52,
   "metadata": {},
   "outputs": [
    {
     "data": {
      "text/html": [
       "0.334"
      ],
      "text/latex": [
       "0.334"
      ],
      "text/markdown": [
       "0.334"
      ],
      "text/plain": [
       "[1] 0.334"
      ]
     },
     "metadata": {},
     "output_type": "display_data"
    }
   ],
   "source": [
    "MSE(compare[c('Prediction')][,1],compare[c('Survived')][,1])"
   ]
  },
  {
   "cell_type": "markdown",
   "metadata": {},
   "source": [
    "### Ejercicio 8: Generar una base de datos de la siguiente forma: Pclass|Sex|Age|Fare|Survived, llamarla train_C, entrenar. Luego predecir con la base de test_C, calcular Accuracy y MSE."
   ]
  },
  {
   "cell_type": "markdown",
   "metadata": {},
   "source": [
    "### HINT: Cuando se quiere usar un modelo logístico con n variables se hace de esta forma: \n",
    "#### model<-glm(y~x1+x2+x3+...xn, data=train_X, family=binomial)"
   ]
  },
  {
   "cell_type": "markdown",
   "metadata": {},
   "source": [
    "Primero se crea la base de datos pedida para entrenar"
   ]
  },
  {
   "cell_type": "code",
   "execution_count": 53,
   "metadata": {},
   "outputs": [
    {
     "data": {
      "text/html": [
       "<table>\n",
       "<thead><tr><th></th><th scope=col>Pclass</th><th scope=col>Sex</th><th scope=col>Age</th><th scope=col>Fare</th><th scope=col>Survived</th></tr></thead>\n",
       "<tbody>\n",
       "\t<tr><th scope=row>10</th><td>2       </td><td>1       </td><td>14      </td><td> 30.0708</td><td>1       </td></tr>\n",
       "\t<tr><th scope=row>562</th><td>3       </td><td>0       </td><td>40      </td><td>  7.8958</td><td>0       </td></tr>\n",
       "\t<tr><th scope=row>492</th><td>3       </td><td>0       </td><td>21      </td><td>  7.2500</td><td>0       </td></tr>\n",
       "\t<tr><th scope=row>21</th><td>2       </td><td>0       </td><td>35      </td><td> 26.0000</td><td>0       </td></tr>\n",
       "\t<tr><th scope=row>312</th><td>1       </td><td>1       </td><td>18      </td><td>262.3750</td><td>1       </td></tr>\n",
       "\t<tr><th scope=row>819</th><td>3       </td><td>0       </td><td>43      </td><td>  6.4500</td><td>0       </td></tr>\n",
       "</tbody>\n",
       "</table>\n"
      ],
      "text/latex": [
       "\\begin{tabular}{r|lllll}\n",
       "  & Pclass & Sex & Age & Fare & Survived\\\\\n",
       "\\hline\n",
       "\t10 & 2        & 1        & 14       &  30.0708 & 1       \\\\\n",
       "\t562 & 3        & 0        & 40       &   7.8958 & 0       \\\\\n",
       "\t492 & 3        & 0        & 21       &   7.2500 & 0       \\\\\n",
       "\t21 & 2        & 0        & 35       &  26.0000 & 0       \\\\\n",
       "\t312 & 1        & 1        & 18       & 262.3750 & 1       \\\\\n",
       "\t819 & 3        & 0        & 43       &   6.4500 & 0       \\\\\n",
       "\\end{tabular}\n"
      ],
      "text/markdown": [
       "\n",
       "| <!--/--> | Pclass | Sex | Age | Fare | Survived | \n",
       "|---|---|---|---|---|---|\n",
       "| 10 | 2        | 1        | 14       |  30.0708 | 1        | \n",
       "| 562 | 3        | 0        | 40       |   7.8958 | 0        | \n",
       "| 492 | 3        | 0        | 21       |   7.2500 | 0        | \n",
       "| 21 | 2        | 0        | 35       |  26.0000 | 0        | \n",
       "| 312 | 1        | 1        | 18       | 262.3750 | 1        | \n",
       "| 819 | 3        | 0        | 43       |   6.4500 | 0        | \n",
       "\n",
       "\n"
      ],
      "text/plain": [
       "    Pclass Sex Age Fare     Survived\n",
       "10  2      1   14   30.0708 1       \n",
       "562 3      0   40    7.8958 0       \n",
       "492 3      0   21    7.2500 0       \n",
       "21  2      0   35   26.0000 0       \n",
       "312 1      1   18  262.3750 1       \n",
       "819 3      0   43    6.4500 0       "
      ]
     },
     "metadata": {},
     "output_type": "display_data"
    }
   ],
   "source": [
    "train_C<-train[c('Pclass','Sex','Age','Fare','Survived')]\n",
    "head(train_C)"
   ]
  },
  {
   "cell_type": "code",
   "execution_count": 54,
   "metadata": {},
   "outputs": [],
   "source": [
    "logisticmodel_C<-glm(Survived~Pclass+Sex+Age+Fare, data = train_C,family=binomial)"
   ]
  },
  {
   "cell_type": "code",
   "execution_count": 68,
   "metadata": {},
   "outputs": [
    {
     "data": {
      "text/plain": [
       "\n",
       "Call:\n",
       "glm(formula = Survived ~ Pclass + Sex + Age + Fare, family = binomial, \n",
       "    data = train_C)\n",
       "\n",
       "Deviance Residuals: \n",
       "    Min       1Q   Median       3Q      Max  \n",
       "-2.4478  -0.6942  -0.4255   0.6563   2.3193  \n",
       "\n",
       "Coefficients:\n",
       "             Estimate Std. Error z value Pr(>|z|)    \n",
       "(Intercept)  4.522976   0.662226   6.830 8.49e-12 ***\n",
       "Pclass      -1.136436   0.184096  -6.173 6.70e-10 ***\n",
       "Sex0        -2.561969   0.246628 -10.388  < 2e-16 ***\n",
       "Age         -0.026273   0.008718  -3.014  0.00258 ** \n",
       "Fare         0.001417   0.002443   0.580  0.56176    \n",
       "---\n",
       "Signif. codes:  0 '***' 0.001 '**' 0.01 '*' 0.05 '.' 0.1 ' ' 1\n",
       "\n",
       "(Dispersion parameter for binomial family taken to be 1)\n",
       "\n",
       "    Null deviance: 682.74  on 499  degrees of freedom\n",
       "Residual deviance: 463.05  on 495  degrees of freedom\n",
       "AIC: 473.05\n",
       "\n",
       "Number of Fisher Scoring iterations: 4\n"
      ]
     },
     "metadata": {},
     "output_type": "display_data"
    }
   ],
   "source": [
    "summary(logisticmodel_C)"
   ]
  },
  {
   "cell_type": "markdown",
   "metadata": {},
   "source": [
    "Generamos el $\\bar{y}_{train}$ correspondiente"
   ]
  },
  {
   "cell_type": "code",
   "execution_count": 55,
   "metadata": {},
   "outputs": [
    {
     "data": {
      "text/html": [
       "<table>\n",
       "<thead><tr><th></th><th scope=col>Probs</th></tr></thead>\n",
       "<tbody>\n",
       "\t<tr><th scope=row>10</th><td>0.87268477</td></tr>\n",
       "\t<tr><th scope=row>562</th><td>0.07670196</td></tr>\n",
       "\t<tr><th scope=row>492</th><td>0.12028270</td></tr>\n",
       "\t<tr><th scope=row>21</th><td>0.23244411</td></tr>\n",
       "\t<tr><th scope=row>312</th><td>0.96392954</td></tr>\n",
       "\t<tr><th scope=row>819</th><td>0.07116745</td></tr>\n",
       "</tbody>\n",
       "</table>\n"
      ],
      "text/latex": [
       "\\begin{tabular}{r|l}\n",
       "  & Probs\\\\\n",
       "\\hline\n",
       "\t10 & 0.87268477\\\\\n",
       "\t562 & 0.07670196\\\\\n",
       "\t492 & 0.12028270\\\\\n",
       "\t21 & 0.23244411\\\\\n",
       "\t312 & 0.96392954\\\\\n",
       "\t819 & 0.07116745\\\\\n",
       "\\end{tabular}\n"
      ],
      "text/markdown": [
       "\n",
       "| <!--/--> | Probs | \n",
       "|---|---|---|---|---|---|\n",
       "| 10 | 0.87268477 | \n",
       "| 562 | 0.07670196 | \n",
       "| 492 | 0.12028270 | \n",
       "| 21 | 0.23244411 | \n",
       "| 312 | 0.96392954 | \n",
       "| 819 | 0.07116745 | \n",
       "\n",
       "\n"
      ],
      "text/plain": [
       "    Probs     \n",
       "10  0.87268477\n",
       "562 0.07670196\n",
       "492 0.12028270\n",
       "21  0.23244411\n",
       "312 0.96392954\n",
       "819 0.07116745"
      ]
     },
     "metadata": {},
     "output_type": "display_data"
    }
   ],
   "source": [
    "train_C[c('Probs')]<-data.frame(predict(logisticmodel_C,train_C\n",
    "                                        ,type=\"response\"))\n",
    "head(train_C[c('Probs')])"
   ]
  },
  {
   "cell_type": "code",
   "execution_count": 56,
   "metadata": {},
   "outputs": [
    {
     "data": {
      "text/html": [
       "<table>\n",
       "<thead><tr><th></th><th scope=col>Survived</th><th scope=col>Probs</th></tr></thead>\n",
       "<tbody>\n",
       "\t<tr><th scope=row>10</th><td>1         </td><td>0.87268477</td></tr>\n",
       "\t<tr><th scope=row>562</th><td>0         </td><td>0.07670196</td></tr>\n",
       "\t<tr><th scope=row>492</th><td>0         </td><td>0.12028270</td></tr>\n",
       "\t<tr><th scope=row>21</th><td>0         </td><td>0.23244411</td></tr>\n",
       "\t<tr><th scope=row>312</th><td>1         </td><td>0.96392954</td></tr>\n",
       "\t<tr><th scope=row>819</th><td>0         </td><td>0.07116745</td></tr>\n",
       "</tbody>\n",
       "</table>\n"
      ],
      "text/latex": [
       "\\begin{tabular}{r|ll}\n",
       "  & Survived & Probs\\\\\n",
       "\\hline\n",
       "\t10 & 1          & 0.87268477\\\\\n",
       "\t562 & 0          & 0.07670196\\\\\n",
       "\t492 & 0          & 0.12028270\\\\\n",
       "\t21 & 0          & 0.23244411\\\\\n",
       "\t312 & 1          & 0.96392954\\\\\n",
       "\t819 & 0          & 0.07116745\\\\\n",
       "\\end{tabular}\n"
      ],
      "text/markdown": [
       "\n",
       "| <!--/--> | Survived | Probs | \n",
       "|---|---|---|---|---|---|\n",
       "| 10 | 1          | 0.87268477 | \n",
       "| 562 | 0          | 0.07670196 | \n",
       "| 492 | 0          | 0.12028270 | \n",
       "| 21 | 0          | 0.23244411 | \n",
       "| 312 | 1          | 0.96392954 | \n",
       "| 819 | 0          | 0.07116745 | \n",
       "\n",
       "\n"
      ],
      "text/plain": [
       "    Survived Probs     \n",
       "10  1        0.87268477\n",
       "562 0        0.07670196\n",
       "492 0        0.12028270\n",
       "21  0        0.23244411\n",
       "312 1        0.96392954\n",
       "819 0        0.07116745"
      ]
     },
     "metadata": {},
     "output_type": "display_data"
    }
   ],
   "source": [
    "compare_C<-train_C[c('Survived','Probs')]\n",
    "head(compare_C)"
   ]
  },
  {
   "cell_type": "code",
   "execution_count": 57,
   "metadata": {},
   "outputs": [
    {
     "data": {
      "text/html": [
       "<table>\n",
       "<thead><tr><th></th><th scope=col>Survived</th><th scope=col>Probs</th><th scope=col>Prediction</th></tr></thead>\n",
       "<tbody>\n",
       "\t<tr><th scope=row>10</th><td>1         </td><td>0.87268477</td><td>1         </td></tr>\n",
       "\t<tr><th scope=row>562</th><td>0         </td><td>0.07670196</td><td>0         </td></tr>\n",
       "\t<tr><th scope=row>492</th><td>0         </td><td>0.12028270</td><td>0         </td></tr>\n",
       "\t<tr><th scope=row>21</th><td>0         </td><td>0.23244411</td><td>0         </td></tr>\n",
       "\t<tr><th scope=row>312</th><td>1         </td><td>0.96392954</td><td>1         </td></tr>\n",
       "\t<tr><th scope=row>819</th><td>0         </td><td>0.07116745</td><td>0         </td></tr>\n",
       "</tbody>\n",
       "</table>\n"
      ],
      "text/latex": [
       "\\begin{tabular}{r|lll}\n",
       "  & Survived & Probs & Prediction\\\\\n",
       "\\hline\n",
       "\t10 & 1          & 0.87268477 & 1         \\\\\n",
       "\t562 & 0          & 0.07670196 & 0         \\\\\n",
       "\t492 & 0          & 0.12028270 & 0         \\\\\n",
       "\t21 & 0          & 0.23244411 & 0         \\\\\n",
       "\t312 & 1          & 0.96392954 & 1         \\\\\n",
       "\t819 & 0          & 0.07116745 & 0         \\\\\n",
       "\\end{tabular}\n"
      ],
      "text/markdown": [
       "\n",
       "| <!--/--> | Survived | Probs | Prediction | \n",
       "|---|---|---|---|---|---|\n",
       "| 10 | 1          | 0.87268477 | 1          | \n",
       "| 562 | 0          | 0.07670196 | 0          | \n",
       "| 492 | 0          | 0.12028270 | 0          | \n",
       "| 21 | 0          | 0.23244411 | 0          | \n",
       "| 312 | 1          | 0.96392954 | 1          | \n",
       "| 819 | 0          | 0.07116745 | 0          | \n",
       "\n",
       "\n"
      ],
      "text/plain": [
       "    Survived Probs      Prediction\n",
       "10  1        0.87268477 1         \n",
       "562 0        0.07670196 0         \n",
       "492 0        0.12028270 0         \n",
       "21  0        0.23244411 0         \n",
       "312 1        0.96392954 1         \n",
       "819 0        0.07116745 0         "
      ]
     },
     "metadata": {},
     "output_type": "display_data"
    }
   ],
   "source": [
    "Prediction_C<-vector()\n",
    "for(i in 1:dim(train_C)[1])\n",
    "{\n",
    "    if(compare_C[i,2]>0.5)\n",
    "    {\n",
    "            Prediction_C[i]<-1\n",
    "    }\n",
    "    else\n",
    "    {\n",
    "            Prediction_C[i]<-0\n",
    "    }    \n",
    "}\n",
    "compare_C[c('Prediction')]<-Prediction_C\n",
    "head(compare_C)"
   ]
  },
  {
   "cell_type": "code",
   "execution_count": 58,
   "metadata": {},
   "outputs": [
    {
     "data": {
      "text/html": [
       "0.784"
      ],
      "text/latex": [
       "0.784"
      ],
      "text/markdown": [
       "0.784"
      ],
      "text/plain": [
       "[1] 0.784"
      ]
     },
     "metadata": {},
     "output_type": "display_data"
    }
   ],
   "source": [
    "Accuracy(compare_C[c('Prediction')][,1],compare_C[c('Survived')][,1])"
   ]
  },
  {
   "cell_type": "code",
   "execution_count": 59,
   "metadata": {},
   "outputs": [
    {
     "data": {
      "text/html": [
       "0.216"
      ],
      "text/latex": [
       "0.216"
      ],
      "text/markdown": [
       "0.216"
      ],
      "text/plain": [
       "[1] 0.216"
      ]
     },
     "metadata": {},
     "output_type": "display_data"
    }
   ],
   "source": [
    "MSE(compare_C[c('Prediction')][,1],compare_C[c('Survived')][,1])"
   ]
  },
  {
   "cell_type": "markdown",
   "metadata": {},
   "source": [
    "Generamos la base de testing"
   ]
  },
  {
   "cell_type": "code",
   "execution_count": 60,
   "metadata": {},
   "outputs": [
    {
     "data": {
      "text/html": [
       "<table>\n",
       "<thead><tr><th></th><th scope=col>Pclass</th><th scope=col>Sex</th><th scope=col>Age</th><th scope=col>Fare</th><th scope=col>Survived</th></tr></thead>\n",
       "<tbody>\n",
       "\t<tr><th scope=row>41</th><td>3      </td><td>1      </td><td>40     </td><td> 9.4750</td><td>0      </td></tr>\n",
       "\t<tr><th scope=row>44</th><td>2      </td><td>1      </td><td> 3     </td><td>41.5792</td><td>1      </td></tr>\n",
       "\t<tr><th scope=row>464</th><td>2      </td><td>0      </td><td>48     </td><td>13.0000</td><td>0      </td></tr>\n",
       "\t<tr><th scope=row>873</th><td>1      </td><td>0      </td><td>33     </td><td> 5.0000</td><td>0      </td></tr>\n",
       "\t<tr><th scope=row>72</th><td>3      </td><td>1      </td><td>16     </td><td>46.9000</td><td>0      </td></tr>\n",
       "\t<tr><th scope=row>136</th><td>2      </td><td>0      </td><td>23     </td><td>15.0458</td><td>0      </td></tr>\n",
       "</tbody>\n",
       "</table>\n"
      ],
      "text/latex": [
       "\\begin{tabular}{r|lllll}\n",
       "  & Pclass & Sex & Age & Fare & Survived\\\\\n",
       "\\hline\n",
       "\t41 & 3       & 1       & 40      &  9.4750 & 0      \\\\\n",
       "\t44 & 2       & 1       &  3      & 41.5792 & 1      \\\\\n",
       "\t464 & 2       & 0       & 48      & 13.0000 & 0      \\\\\n",
       "\t873 & 1       & 0       & 33      &  5.0000 & 0      \\\\\n",
       "\t72 & 3       & 1       & 16      & 46.9000 & 0      \\\\\n",
       "\t136 & 2       & 0       & 23      & 15.0458 & 0      \\\\\n",
       "\\end{tabular}\n"
      ],
      "text/markdown": [
       "\n",
       "| <!--/--> | Pclass | Sex | Age | Fare | Survived | \n",
       "|---|---|---|---|---|---|\n",
       "| 41 | 3       | 1       | 40      |  9.4750 | 0       | \n",
       "| 44 | 2       | 1       |  3      | 41.5792 | 1       | \n",
       "| 464 | 2       | 0       | 48      | 13.0000 | 0       | \n",
       "| 873 | 1       | 0       | 33      |  5.0000 | 0       | \n",
       "| 72 | 3       | 1       | 16      | 46.9000 | 0       | \n",
       "| 136 | 2       | 0       | 23      | 15.0458 | 0       | \n",
       "\n",
       "\n"
      ],
      "text/plain": [
       "    Pclass Sex Age Fare    Survived\n",
       "41  3      1   40   9.4750 0       \n",
       "44  2      1    3  41.5792 1       \n",
       "464 2      0   48  13.0000 0       \n",
       "873 1      0   33   5.0000 0       \n",
       "72  3      1   16  46.9000 0       \n",
       "136 2      0   23  15.0458 0       "
      ]
     },
     "metadata": {},
     "output_type": "display_data"
    }
   ],
   "source": [
    "test_C<-test[c('Pclass','Sex','Age','Fare','Survived')]\n",
    "head(test_C)"
   ]
  },
  {
   "cell_type": "markdown",
   "metadata": {},
   "source": [
    "Generamos el $\\bar{y}_{test}$ correspondiente"
   ]
  },
  {
   "cell_type": "code",
   "execution_count": 61,
   "metadata": {},
   "outputs": [
    {
     "data": {
      "text/html": [
       "<table>\n",
       "<thead><tr><th></th><th scope=col>Probs</th></tr></thead>\n",
       "<tbody>\n",
       "\t<tr><th scope=row>41</th><td>0.5190365</td></tr>\n",
       "\t<tr><th scope=row>44</th><td>0.9029309</td></tr>\n",
       "\t<tr><th scope=row>464</th><td>0.1744321</td></tr>\n",
       "\t<tr><th scope=row>873</th><td>0.4911642</td></tr>\n",
       "\t<tr><th scope=row>72</th><td>0.6813063</td></tr>\n",
       "\t<tr><th scope=row>136</th><td>0.2901173</td></tr>\n",
       "</tbody>\n",
       "</table>\n"
      ],
      "text/latex": [
       "\\begin{tabular}{r|l}\n",
       "  & Probs\\\\\n",
       "\\hline\n",
       "\t41 & 0.5190365\\\\\n",
       "\t44 & 0.9029309\\\\\n",
       "\t464 & 0.1744321\\\\\n",
       "\t873 & 0.4911642\\\\\n",
       "\t72 & 0.6813063\\\\\n",
       "\t136 & 0.2901173\\\\\n",
       "\\end{tabular}\n"
      ],
      "text/markdown": [
       "\n",
       "| <!--/--> | Probs | \n",
       "|---|---|---|---|---|---|\n",
       "| 41 | 0.5190365 | \n",
       "| 44 | 0.9029309 | \n",
       "| 464 | 0.1744321 | \n",
       "| 873 | 0.4911642 | \n",
       "| 72 | 0.6813063 | \n",
       "| 136 | 0.2901173 | \n",
       "\n",
       "\n"
      ],
      "text/plain": [
       "    Probs    \n",
       "41  0.5190365\n",
       "44  0.9029309\n",
       "464 0.1744321\n",
       "873 0.4911642\n",
       "72  0.6813063\n",
       "136 0.2901173"
      ]
     },
     "metadata": {},
     "output_type": "display_data"
    }
   ],
   "source": [
    "test_C[c('Probs')]<-data.frame(predict(logisticmodel_C,test_C,type=\"response\"))\n",
    "head(test_C[c('Probs')])"
   ]
  },
  {
   "cell_type": "code",
   "execution_count": 62,
   "metadata": {},
   "outputs": [
    {
     "data": {
      "text/html": [
       "<table>\n",
       "<thead><tr><th></th><th scope=col>Survived</th><th scope=col>Probs</th></tr></thead>\n",
       "<tbody>\n",
       "\t<tr><th scope=row>41</th><td>0        </td><td>0.5190365</td></tr>\n",
       "\t<tr><th scope=row>44</th><td>1        </td><td>0.9029309</td></tr>\n",
       "\t<tr><th scope=row>464</th><td>0        </td><td>0.1744321</td></tr>\n",
       "\t<tr><th scope=row>873</th><td>0        </td><td>0.4911642</td></tr>\n",
       "\t<tr><th scope=row>72</th><td>0        </td><td>0.6813063</td></tr>\n",
       "\t<tr><th scope=row>136</th><td>0        </td><td>0.2901173</td></tr>\n",
       "</tbody>\n",
       "</table>\n"
      ],
      "text/latex": [
       "\\begin{tabular}{r|ll}\n",
       "  & Survived & Probs\\\\\n",
       "\\hline\n",
       "\t41 & 0         & 0.5190365\\\\\n",
       "\t44 & 1         & 0.9029309\\\\\n",
       "\t464 & 0         & 0.1744321\\\\\n",
       "\t873 & 0         & 0.4911642\\\\\n",
       "\t72 & 0         & 0.6813063\\\\\n",
       "\t136 & 0         & 0.2901173\\\\\n",
       "\\end{tabular}\n"
      ],
      "text/markdown": [
       "\n",
       "| <!--/--> | Survived | Probs | \n",
       "|---|---|---|---|---|---|\n",
       "| 41 | 0         | 0.5190365 | \n",
       "| 44 | 1         | 0.9029309 | \n",
       "| 464 | 0         | 0.1744321 | \n",
       "| 873 | 0         | 0.4911642 | \n",
       "| 72 | 0         | 0.6813063 | \n",
       "| 136 | 0         | 0.2901173 | \n",
       "\n",
       "\n"
      ],
      "text/plain": [
       "    Survived Probs    \n",
       "41  0        0.5190365\n",
       "44  1        0.9029309\n",
       "464 0        0.1744321\n",
       "873 0        0.4911642\n",
       "72  0        0.6813063\n",
       "136 0        0.2901173"
      ]
     },
     "metadata": {},
     "output_type": "display_data"
    }
   ],
   "source": [
    "compare_test_C<-test_C[c('Survived','Probs')]\n",
    "head(compare_test_C)"
   ]
  },
  {
   "cell_type": "code",
   "execution_count": 63,
   "metadata": {},
   "outputs": [
    {
     "data": {
      "text/html": [
       "<table>\n",
       "<thead><tr><th></th><th scope=col>Survived</th><th scope=col>Probs</th><th scope=col>Prediction</th></tr></thead>\n",
       "<tbody>\n",
       "\t<tr><th scope=row>41</th><td>0        </td><td>0.5190365</td><td>1        </td></tr>\n",
       "\t<tr><th scope=row>44</th><td>1        </td><td>0.9029309</td><td>0        </td></tr>\n",
       "\t<tr><th scope=row>464</th><td>0        </td><td>0.1744321</td><td>0        </td></tr>\n",
       "\t<tr><th scope=row>873</th><td>0        </td><td>0.4911642</td><td>0        </td></tr>\n",
       "\t<tr><th scope=row>72</th><td>0        </td><td>0.6813063</td><td>1        </td></tr>\n",
       "\t<tr><th scope=row>136</th><td>0        </td><td>0.2901173</td><td>0        </td></tr>\n",
       "</tbody>\n",
       "</table>\n"
      ],
      "text/latex": [
       "\\begin{tabular}{r|lll}\n",
       "  & Survived & Probs & Prediction\\\\\n",
       "\\hline\n",
       "\t41 & 0         & 0.5190365 & 1        \\\\\n",
       "\t44 & 1         & 0.9029309 & 0        \\\\\n",
       "\t464 & 0         & 0.1744321 & 0        \\\\\n",
       "\t873 & 0         & 0.4911642 & 0        \\\\\n",
       "\t72 & 0         & 0.6813063 & 1        \\\\\n",
       "\t136 & 0         & 0.2901173 & 0        \\\\\n",
       "\\end{tabular}\n"
      ],
      "text/markdown": [
       "\n",
       "| <!--/--> | Survived | Probs | Prediction | \n",
       "|---|---|---|---|---|---|\n",
       "| 41 | 0         | 0.5190365 | 1         | \n",
       "| 44 | 1         | 0.9029309 | 0         | \n",
       "| 464 | 0         | 0.1744321 | 0         | \n",
       "| 873 | 0         | 0.4911642 | 0         | \n",
       "| 72 | 0         | 0.6813063 | 1         | \n",
       "| 136 | 0         | 0.2901173 | 0         | \n",
       "\n",
       "\n"
      ],
      "text/plain": [
       "    Survived Probs     Prediction\n",
       "41  0        0.5190365 1         \n",
       "44  1        0.9029309 0         \n",
       "464 0        0.1744321 0         \n",
       "873 0        0.4911642 0         \n",
       "72  0        0.6813063 1         \n",
       "136 0        0.2901173 0         "
      ]
     },
     "metadata": {},
     "output_type": "display_data"
    }
   ],
   "source": [
    "Prediction_test_C<-vector()\n",
    "for(i in 1:dim(test_C)[1])\n",
    "{\n",
    "    if(compare_C[i,2]>0.5)\n",
    "    {\n",
    "            Prediction_test_C[i]<-1\n",
    "    }\n",
    "    else\n",
    "    {\n",
    "            Prediction_test_C[i]<-0\n",
    "    }    \n",
    "}\n",
    "compare_test_C[c('Prediction')]<-Prediction_test_C\n",
    "head(compare_test_C)"
   ]
  },
  {
   "cell_type": "markdown",
   "metadata": {},
   "source": [
    "Finalmente calculamos Accuracy y MSE"
   ]
  },
  {
   "cell_type": "code",
   "execution_count": 64,
   "metadata": {},
   "outputs": [
    {
     "data": {
      "text/html": [
       "0.509345794392523"
      ],
      "text/latex": [
       "0.509345794392523"
      ],
      "text/markdown": [
       "0.509345794392523"
      ],
      "text/plain": [
       "[1] 0.5093458"
      ]
     },
     "metadata": {},
     "output_type": "display_data"
    }
   ],
   "source": [
    "Accuracy(compare_test_C[c('Prediction')][,1],compare_test_C[c('Survived')][,1])"
   ]
  },
  {
   "cell_type": "code",
   "execution_count": 65,
   "metadata": {},
   "outputs": [
    {
     "data": {
      "text/html": [
       "0.490654205607477"
      ],
      "text/latex": [
       "0.490654205607477"
      ],
      "text/markdown": [
       "0.490654205607477"
      ],
      "text/plain": [
       "[1] 0.4906542"
      ]
     },
     "metadata": {},
     "output_type": "display_data"
    }
   ],
   "source": [
    "MSE(compare_test_C[c('Prediction')][,1],compare_test_C[c('Survived')][,1])"
   ]
  }
 ],
 "metadata": {
  "kernelspec": {
   "display_name": "R",
   "language": "R",
   "name": "ir"
  },
  "language_info": {
   "codemirror_mode": "r",
   "file_extension": ".r",
   "mimetype": "text/x-r-source",
   "name": "R",
   "pygments_lexer": "r",
   "version": "3.5.1"
  }
 },
 "nbformat": 4,
 "nbformat_minor": 2
}
